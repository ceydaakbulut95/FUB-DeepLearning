{
  "cells": [
    {
      "cell_type": "markdown",
      "metadata": {
        "id": "view-in-github",
        "colab_type": "text"
      },
      "source": [
        "<a href=\"https://colab.research.google.com/github/ceydaakbulut95/FUB-DeepLearning/blob/master/Project1%3AMaschinelles_Lernen_f%C3%BCr_Data_Science_W21_22.ipynb\" target=\"_parent\"><img src=\"https://colab.research.google.com/assets/colab-badge.svg\" alt=\"Open In Colab\"/></a>"
      ]
    },
    {
      "cell_type": "markdown",
      "metadata": {
        "id": "yC9-HuKzeqRb"
      },
      "source": [
        "# **Project 1 - Maschinelles Lernen für Data Science**\n",
        "**Team:** <br>Ceyda Akbulut, 5389951<br>Hyosang Kim, 5566707<br>Raniyaharini Rajendran, 5566923"
      ]
    },
    {
      "cell_type": "markdown",
      "metadata": {
        "id": "rujaEpoG0T2h"
      },
      "source": [
        "# **●Understanding the Dataset** <br>\n",
        "Dataset name: Adult dataset<br>\n",
        "Task: Classification<br>\n",
        "Prediction: To determine whether a person makes over 50K a year.<br>\n",
        "Labels: >50K,<=50K<br>\n",
        "Dataset characteristics: Multivariate<br>\n",
        "Attribute characteristics: Categorical, Integer<br>\n",
        "Number of Instances(Total): 48842<br>\n",
        "Number of Instances(Train):32561<br>\n",
        "Number of Instances(Test):16281<br>\n",
        "Number of Attributes:14\n"
      ]
    },
    {
      "cell_type": "markdown",
      "metadata": {
        "id": "UMoQREYPgbtw"
      },
      "source": [
        "**Download Adult Dataset from UCI Machine Learning Repository**"
      ]
    },
    {
      "cell_type": "code",
      "execution_count": null,
      "metadata": {
        "id": "gPpDF1H3ZqkS"
      },
      "outputs": [],
      "source": [
        "%%capture\n",
        "%%bash\n",
        "pip install imbalanced-learn"
      ]
    },
    {
      "cell_type": "code",
      "execution_count": null,
      "metadata": {
        "id": "s8ocSEIPZOCM"
      },
      "outputs": [],
      "source": [
        "#Read the libraries\n",
        "import pandas as pd\n",
        "import numpy as np\n",
        "import matplotlib.pyplot as plt\n",
        "import seaborn as sns\n",
        "from collections import Counter\n",
        "from sklearn.datasets import make_classification\n",
        "\n",
        "from imblearn.pipeline import make_pipeline\n",
        "from imblearn.base import BaseSampler\n",
        "from imblearn.under_sampling import RandomUnderSampler\n",
        "from imblearn.over_sampling import RandomOverSampler \n",
        "\n",
        "import warnings\n",
        "warnings.simplefilter(action='ignore', category=FutureWarning)"
      ]
    },
    {
      "cell_type": "code",
      "execution_count": null,
      "metadata": {
        "id": "ZhChsno_Z4Ww"
      },
      "outputs": [],
      "source": [
        "#Read adult.data as df (training part)\n",
        "df_train = pd.read_csv('adult.data', header=None)"
      ]
    },
    {
      "cell_type": "code",
      "execution_count": null,
      "metadata": {
        "id": "5mW2PGA_z2bu",
        "colab": {
          "base_uri": "https://localhost:8080/"
        },
        "outputId": "2c39d72a-d040-4d30-a3f0-522941d9318a"
      },
      "outputs": [
        {
          "output_type": "stream",
          "name": "stdout",
          "text": [
            "                                                                                                                                                        |1x3 Cross validator\n",
            "25  Private          226802  11th         7   Never-married       Machine-op-inspct  Own-child      Black               Male   0    0 40  United-States               <=50K.\n",
            "38  Private          89814   HS-grad      9   Married-civ-spouse  Farming-fishing    Husband        White               Male   0    0 50  United-States               <=50K.\n",
            "28  Local-gov        336951  Assoc-acdm   12  Married-civ-spouse  Protective-serv    Husband        White               Male   0    0 40  United-States                >50K.\n",
            "44  Private          160323  Some-college 10  Married-civ-spouse  Machine-op-inspct  Husband        Black               Male   7688 0 40  United-States                >50K.\n",
            "18  ?                103497  Some-college 10  Never-married       ?                  Own-child      White               Female 0    0 30  United-States               <=50K.\n",
            "34  Private          198693  10th         6   Never-married       Other-service      Not-in-family  White               Male   0    0 30  United-States               <=50K.\n",
            "29  ?                227026  HS-grad      9   Never-married       ?                  Unmarried      Black               Male   0    0 40  United-States               <=50K.\n",
            "63  Self-emp-not-inc 104626  Prof-school  15  Married-civ-spouse  Prof-specialty     Husband        White               Male   3103 0 32  United-States                >50K.\n",
            "24  Private          369667  Some-college 10  Never-married       Other-service      Unmarried      White               Female 0    0 40  United-States               <=50K.\n",
            "55  Private          104996  7th-8th      4   Married-civ-spouse  Craft-repair       Husband        White               Male   0    0 10  United-States               <=50K.\n",
            "65  Private          184454  HS-grad      9   Married-civ-spouse  Machine-op-inspct  Husband        White               Male   6418 0 40  United-States                >50K.\n",
            "36  Federal-gov      212465  Bachelors    13  Married-civ-spouse  Adm-clerical       Husband        White               Male   0    0 40  United-States               <=50K.\n",
            "26  Private          82091   HS-grad      9   Never-married       Adm-clerical       Not-in-family  White               Female 0    0 39  United-States               <=50K.\n",
            "58  ?                299831  HS-grad      9   Married-civ-spouse  ?                  Husband        White               Male   0    0 35  United-States               <=50K.\n",
            "48  Private          279724  HS-grad      9   Married-civ-spouse  Machine-op-inspct  Husband        White               Male   3103 0 48  United-States                >50K.\n",
            "43  Private          346189  Masters      14  Married-civ-spouse  Exec-managerial    Husband        White               Male   0    0 50  United-States                >50K.\n",
            "20  State-gov        444554  Some-college 10  Never-married       Other-service      Own-child      White               Male   0    0 25  United-States               <=50K.\n",
            "43  Private          128354  HS-grad      9   Married-civ-spouse  Adm-clerical       Wife           White               Female 0    0 30  United-States               <=50K.\n",
            "37  Private          60548   HS-grad      9   Widowed             Machine-op-inspct  Unmarried      White               Female 0    0 20  United-States               <=50K.\n",
            "40  Private          85019   Doctorate    16  Married-civ-spouse  Prof-specialty     Husband        Asian-Pac-Islander  Male   0    0 45  ?                            >50K.\n"
          ]
        }
      ],
      "source": [
        "#Read adult.data as df (testing part)\n",
        "df_test = pd.read_csv('adult.test', error_bad_lines=False)\n",
        "pd.set_option(\"display.max_columns\", None)\n",
        "print(df_test.head(20))"
      ]
    },
    {
      "cell_type": "code",
      "execution_count": null,
      "metadata": {
        "id": "tHpIMTCzaRdX"
      },
      "outputs": [],
      "source": [
        "#Show all columns to rename them\n",
        "pd.set_option(\"display.max_columns\", None)\n",
        "#print(df_train.head(20))"
      ]
    },
    {
      "cell_type": "code",
      "execution_count": null,
      "metadata": {
        "id": "4KAF5rK2al9a"
      },
      "outputs": [],
      "source": [
        "#Read adult.names to understand dataset description\n",
        "my_file = open(\"adult.names\", \"r\")\n",
        "content = my_file.read()\n",
        "#print(content)"
      ]
    },
    {
      "cell_type": "code",
      "execution_count": null,
      "metadata": {
        "id": "DCYzRJetlerv"
      },
      "outputs": [],
      "source": [
        "#Read old.adult.names files \n",
        "my_file_old = open(\"old.adult.names\", \"r\")\n",
        "content_old = my_file_old.read()\n",
        "#print(content_old)"
      ]
    },
    {
      "cell_type": "code",
      "execution_count": null,
      "metadata": {
        "id": "doYtQmrRjUwQ"
      },
      "outputs": [],
      "source": [
        "#Generate column names manually and print df2_train again\n",
        "names=[ 'age','workclass','fnlwgt','education','education-num','marital-status','occupation','relationship','race','sex','capital-gain','capital loss','hours-per-week','native-country','result']\n",
        "df2_train = pd.read_csv('adult.data', names = names)\n",
        "#print(df2_train.head(20))"
      ]
    },
    {
      "cell_type": "code",
      "execution_count": null,
      "metadata": {
        "id": "TH-FhoCx24yC"
      },
      "outputs": [],
      "source": [
        "#Generate column names manually and print df2_test again\n",
        "names=[ 'age','workclass','fnlwgt','education','education-num','marital-status','occupation','relationship','race','sex','capital-gain','capital loss','hours-per-week','native-country','result']\n",
        "df2_test = pd.read_csv('adult.test', names = names)\n",
        "#print(df2_train.head(20))"
      ]
    },
    {
      "cell_type": "code",
      "execution_count": null,
      "metadata": {
        "id": "o4dHf9q_1cBd"
      },
      "outputs": [],
      "source": [
        "#Combine test and train datasets(with indicator) to get to know our data and create the final dataset\n",
        "main_data = pd.concat([df2_test.assign(ind=\"df2_test\"), df2_train.assign(ind=\"df2_train\")]) \n",
        "#!!!!!To separate thema again: test, train = df[df[\"ind\"].eq(\"df2_test\")], df[df[\"ind\"].eq(\"df2_train\")]\n",
        "#print(main_data.shape)\n",
        "#print(main_data.head(20))\n",
        "#print(main_data.tail(20))\n",
        "#Note: First row is not useful. Therefore, we will remove it."
      ]
    },
    {
      "cell_type": "code",
      "execution_count": null,
      "metadata": {
        "id": "atAFrVk15d6g"
      },
      "outputs": [],
      "source": [
        "#Delete the first row since it has no meaning \n",
        "main_data.drop(index=main_data.index[0],axis=0,inplace=True)\n",
        "#We executed the code line above. So, we can show it as a comment.\n",
        "#print(main_data.shape)\n",
        "#print(main_data.head(20))"
      ]
    },
    {
      "cell_type": "markdown",
      "metadata": {
        "id": "bCecyChV_jSZ"
      },
      "source": [
        "# ● **Data preprocessing/Cleaning** <br>\n",
        "■ Data integration:\n",
        "\n",
        "*  Integration of multiple databases, data warehouses, or files (entity identification, value resolution)\n",
        "\n",
        "■ Data cleaning:<br>\n",
        "\n",
        "*   Fill in missing values\n",
        "*   Smooth noisy data\n",
        "*   Identify or remove outliers\n",
        "*   Resolve inconsistencies\n",
        "\n",
        "■ Data reduction:<br>\n",
        "\n",
        "*   Duplicate elimination"
      ]
    },
    {
      "cell_type": "markdown",
      "metadata": {
        "id": "bJXSslT87HRo"
      },
      "source": [
        "# 3.1 Exploratory data analysis"
      ]
    },
    {
      "cell_type": "markdown",
      "metadata": {
        "id": "KK6PQKOH7aHQ"
      },
      "source": [
        "# ● Univariate analysis <br>\n",
        "○ Plot the value of each feature (boxplot, histogram, etc.). What do you\n",
        "observe? <br>\n",
        "○ Check for class imbalance. If existing, what are its effects? How can\n",
        "you cope with it?<br>\n",
        "\n",
        "\n",
        "Univariate analysis is perhaps the simplest form of statistical analysis. Like other forms of statistics, it can be inferential or descriptive. The key fact is that only one variable is involved.<br>*(https://en.wikipedia.org/wiki/Univariate_analysis)*<br>\n",
        "\n",
        "**Continuous Variables:** In case of continuous variables, we need to understand the central tendency and spread of the variables.These are measured using various statistical metrics visualization methods as shown below: <br>\n",
        "\n",
        "![Data_exploration_31.png](data:image/png;base64,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)<br>\n",
        "\n",
        "**Categorical Variables:** For categorical variables, we’ll use frequency table to understand distribution of each category.<br>\n",
        "*(https://www.analyticsvidhya.com/blog/2016/01/guide-data-exploration/)*\n",
        "\n"
      ]
    },
    {
      "cell_type": "code",
      "execution_count": null,
      "metadata": {
        "id": "MM97aLejt-h4",
        "colab": {
          "base_uri": "https://localhost:8080/"
        },
        "outputId": "cd425313-6ddc-4721-b351-b2d2f27198f4"
      },
      "outputs": [
        {
          "output_type": "execute_result",
          "data": {
            "text/plain": [
              "age               0\n",
              "workclass         1\n",
              "fnlwgt            1\n",
              "education         1\n",
              "education-num     1\n",
              "marital-status    1\n",
              "occupation        1\n",
              "relationship      1\n",
              "race              1\n",
              "sex               1\n",
              "capital-gain      1\n",
              "capital loss      1\n",
              "hours-per-week    1\n",
              "native-country    1\n",
              "result            1\n",
              "ind               0\n",
              "dtype: int64"
            ]
          },
          "metadata": {},
          "execution_count": 12
        }
      ],
      "source": [
        "#Missing data can occur when no information is provided for one or more items or for a whole unit. Missing data is a very big problem in a real-life scenarios.\n",
        "#Check if there is any missing value with isna() function and sum to count the NaN values\n",
        "main_data.isna().sum() \n",
        "#As a result, there is no missing value result.But without NaN value, we have '?' in our dataset. "
      ]
    },
    {
      "cell_type": "markdown",
      "metadata": {
        "id": "-83QAbly4IGe"
      },
      "source": [
        "If we handle missing values of categorical variables, there are 4 main steps as below.\n",
        "\n",
        "\n",
        "1.   Ignore observation.\n",
        "2.   **Replace by most frequent value (Mode).**\n",
        "3.   Develop a model to predict missing values.\n",
        "4.   Treat missing data as just another category.\n",
        "\n",
        "We will choose **second option** for our dataset.\n",
        "\n",
        "\n"
      ]
    },
    {
      "cell_type": "code",
      "execution_count": null,
      "metadata": {
        "id": "OcYtRJG5wNuu",
        "colab": {
          "base_uri": "https://localhost:8080/",
          "height": 380
        },
        "outputId": "8524349d-19aa-4f9e-e228-8a9f5d98948b"
      },
      "outputs": [
        {
          "output_type": "error",
          "ename": "ValueError",
          "evalue": "ignored",
          "traceback": [
            "\u001b[0;31m---------------------------------------------------------------------------\u001b[0m",
            "\u001b[0;31mValueError\u001b[0m                                Traceback (most recent call last)",
            "\u001b[0;32m<ipython-input-13-86ab6a013812>\u001b[0m in \u001b[0;36m<module>\u001b[0;34m()\u001b[0m\n\u001b[1;32m      1\u001b[0m \u001b[0;31m#To see the frequency list of each column to understand which columns include '?' as a value.\u001b[0m\u001b[0;34m\u001b[0m\u001b[0;34m\u001b[0m\u001b[0;34m\u001b[0m\u001b[0m\n\u001b[0;32m----> 2\u001b[0;31m \u001b[0mmain_data\u001b[0m\u001b[0;34m.\u001b[0m\u001b[0mloc\u001b[0m\u001b[0;34m[\u001b[0m\u001b[0mmain_data\u001b[0m\u001b[0;34m[\u001b[0m\u001b[0;34m'native-country'\u001b[0m\u001b[0;34m]\u001b[0m\u001b[0;34m.\u001b[0m\u001b[0mstr\u001b[0m\u001b[0;34m.\u001b[0m\u001b[0mcontains\u001b[0m\u001b[0;34m(\u001b[0m\u001b[0;34m'\\?'\u001b[0m\u001b[0;34m)\u001b[0m\u001b[0;34m]\u001b[0m\u001b[0;34m.\u001b[0m\u001b[0mhead\u001b[0m\u001b[0;34m(\u001b[0m\u001b[0;36m10\u001b[0m\u001b[0;34m)\u001b[0m\u001b[0;34m\u001b[0m\u001b[0;34m\u001b[0m\u001b[0m\n\u001b[0m\u001b[1;32m      3\u001b[0m \u001b[0;31m#main_data['age'].value_counts()\u001b[0m\u001b[0;34m\u001b[0m\u001b[0;34m\u001b[0m\u001b[0;34m\u001b[0m\u001b[0m\n\u001b[1;32m      4\u001b[0m \u001b[0;31m#main_data['workclass'].value_counts()\u001b[0m\u001b[0;34m\u001b[0m\u001b[0;34m\u001b[0m\u001b[0;34m\u001b[0m\u001b[0m\n\u001b[1;32m      5\u001b[0m \u001b[0;31m#main_data['fnlwgt'].value_counts()\u001b[0m\u001b[0;34m\u001b[0m\u001b[0;34m\u001b[0m\u001b[0;34m\u001b[0m\u001b[0m\n",
            "\u001b[0;32m/usr/local/lib/python3.7/dist-packages/pandas/core/indexing.py\u001b[0m in \u001b[0;36m__getitem__\u001b[0;34m(self, key)\u001b[0m\n\u001b[1;32m    877\u001b[0m \u001b[0;34m\u001b[0m\u001b[0m\n\u001b[1;32m    878\u001b[0m             \u001b[0mmaybe_callable\u001b[0m \u001b[0;34m=\u001b[0m \u001b[0mcom\u001b[0m\u001b[0;34m.\u001b[0m\u001b[0mapply_if_callable\u001b[0m\u001b[0;34m(\u001b[0m\u001b[0mkey\u001b[0m\u001b[0;34m,\u001b[0m \u001b[0mself\u001b[0m\u001b[0;34m.\u001b[0m\u001b[0mobj\u001b[0m\u001b[0;34m)\u001b[0m\u001b[0;34m\u001b[0m\u001b[0;34m\u001b[0m\u001b[0m\n\u001b[0;32m--> 879\u001b[0;31m             \u001b[0;32mreturn\u001b[0m \u001b[0mself\u001b[0m\u001b[0;34m.\u001b[0m\u001b[0m_getitem_axis\u001b[0m\u001b[0;34m(\u001b[0m\u001b[0mmaybe_callable\u001b[0m\u001b[0;34m,\u001b[0m \u001b[0maxis\u001b[0m\u001b[0;34m=\u001b[0m\u001b[0maxis\u001b[0m\u001b[0;34m)\u001b[0m\u001b[0;34m\u001b[0m\u001b[0;34m\u001b[0m\u001b[0m\n\u001b[0m\u001b[1;32m    880\u001b[0m \u001b[0;34m\u001b[0m\u001b[0m\n\u001b[1;32m    881\u001b[0m     \u001b[0;32mdef\u001b[0m \u001b[0m_is_scalar_access\u001b[0m\u001b[0;34m(\u001b[0m\u001b[0mself\u001b[0m\u001b[0;34m,\u001b[0m \u001b[0mkey\u001b[0m\u001b[0;34m:\u001b[0m \u001b[0mTuple\u001b[0m\u001b[0;34m)\u001b[0m\u001b[0;34m:\u001b[0m\u001b[0;34m\u001b[0m\u001b[0;34m\u001b[0m\u001b[0m\n",
            "\u001b[0;32m/usr/local/lib/python3.7/dist-packages/pandas/core/indexing.py\u001b[0m in \u001b[0;36m_getitem_axis\u001b[0;34m(self, key, axis)\u001b[0m\n\u001b[1;32m   1087\u001b[0m             \u001b[0mself\u001b[0m\u001b[0;34m.\u001b[0m\u001b[0m_validate_key\u001b[0m\u001b[0;34m(\u001b[0m\u001b[0mkey\u001b[0m\u001b[0;34m,\u001b[0m \u001b[0maxis\u001b[0m\u001b[0;34m)\u001b[0m\u001b[0;34m\u001b[0m\u001b[0;34m\u001b[0m\u001b[0m\n\u001b[1;32m   1088\u001b[0m             \u001b[0;32mreturn\u001b[0m \u001b[0mself\u001b[0m\u001b[0;34m.\u001b[0m\u001b[0m_get_slice_axis\u001b[0m\u001b[0;34m(\u001b[0m\u001b[0mkey\u001b[0m\u001b[0;34m,\u001b[0m \u001b[0maxis\u001b[0m\u001b[0;34m=\u001b[0m\u001b[0maxis\u001b[0m\u001b[0;34m)\u001b[0m\u001b[0;34m\u001b[0m\u001b[0;34m\u001b[0m\u001b[0m\n\u001b[0;32m-> 1089\u001b[0;31m         \u001b[0;32melif\u001b[0m \u001b[0mcom\u001b[0m\u001b[0;34m.\u001b[0m\u001b[0mis_bool_indexer\u001b[0m\u001b[0;34m(\u001b[0m\u001b[0mkey\u001b[0m\u001b[0;34m)\u001b[0m\u001b[0;34m:\u001b[0m\u001b[0;34m\u001b[0m\u001b[0;34m\u001b[0m\u001b[0m\n\u001b[0m\u001b[1;32m   1090\u001b[0m             \u001b[0;32mreturn\u001b[0m \u001b[0mself\u001b[0m\u001b[0;34m.\u001b[0m\u001b[0m_getbool_axis\u001b[0m\u001b[0;34m(\u001b[0m\u001b[0mkey\u001b[0m\u001b[0;34m,\u001b[0m \u001b[0maxis\u001b[0m\u001b[0;34m=\u001b[0m\u001b[0maxis\u001b[0m\u001b[0;34m)\u001b[0m\u001b[0;34m\u001b[0m\u001b[0;34m\u001b[0m\u001b[0m\n\u001b[1;32m   1091\u001b[0m         \u001b[0;32melif\u001b[0m \u001b[0mis_list_like_indexer\u001b[0m\u001b[0;34m(\u001b[0m\u001b[0mkey\u001b[0m\u001b[0;34m)\u001b[0m\u001b[0;34m:\u001b[0m\u001b[0;34m\u001b[0m\u001b[0;34m\u001b[0m\u001b[0m\n",
            "\u001b[0;32m/usr/local/lib/python3.7/dist-packages/pandas/core/common.py\u001b[0m in \u001b[0;36mis_bool_indexer\u001b[0;34m(key)\u001b[0m\n\u001b[1;32m    132\u001b[0m                 \u001b[0mna_msg\u001b[0m \u001b[0;34m=\u001b[0m \u001b[0;34m\"Cannot mask with non-boolean array containing NA / NaN values\"\u001b[0m\u001b[0;34m\u001b[0m\u001b[0;34m\u001b[0m\u001b[0m\n\u001b[1;32m    133\u001b[0m                 \u001b[0;32mif\u001b[0m \u001b[0misna\u001b[0m\u001b[0;34m(\u001b[0m\u001b[0mkey\u001b[0m\u001b[0;34m)\u001b[0m\u001b[0;34m.\u001b[0m\u001b[0many\u001b[0m\u001b[0;34m(\u001b[0m\u001b[0;34m)\u001b[0m\u001b[0;34m:\u001b[0m\u001b[0;34m\u001b[0m\u001b[0;34m\u001b[0m\u001b[0m\n\u001b[0;32m--> 134\u001b[0;31m                     \u001b[0;32mraise\u001b[0m \u001b[0mValueError\u001b[0m\u001b[0;34m(\u001b[0m\u001b[0mna_msg\u001b[0m\u001b[0;34m)\u001b[0m\u001b[0;34m\u001b[0m\u001b[0;34m\u001b[0m\u001b[0m\n\u001b[0m\u001b[1;32m    135\u001b[0m                 \u001b[0;32mreturn\u001b[0m \u001b[0;32mFalse\u001b[0m\u001b[0;34m\u001b[0m\u001b[0;34m\u001b[0m\u001b[0m\n\u001b[1;32m    136\u001b[0m             \u001b[0;32mreturn\u001b[0m \u001b[0;32mTrue\u001b[0m\u001b[0;34m\u001b[0m\u001b[0;34m\u001b[0m\u001b[0m\n",
            "\u001b[0;31mValueError\u001b[0m: Cannot mask with non-boolean array containing NA / NaN values"
          ]
        }
      ],
      "source": [
        "#To see the frequency list of each column to understand which columns include '?' as a value.\n",
        "main_data.loc[main_data['native-country'].str.contains('\\?')].head(10)\n",
        "#main_data['age'].value_counts()\n",
        "#main_data['workclass'].value_counts()\n",
        "#main_data['fnlwgt'].value_counts()\n",
        "#main_data['education'].value_counts()\n",
        "#main_data['education-num'].value_counts()\n",
        "#main_data['occupation'].value_counts()\n",
        "#main_data['relationship'].value_counts()\n",
        "#main_data['race'].value_counts()\n",
        "#main_data['sex'].value_counts()\n",
        "#main_data['capital-gain'].value_counts()\n",
        "#main_data['capital loss'].value_counts()\n",
        "#main_data['hours-per-week'].value_counts()\n",
        "#main_data['native-country'].value_counts()\n",
        "#main_data['result'].value_counts()\n",
        "\n"
      ]
    },
    {
      "cell_type": "markdown",
      "metadata": {
        "id": "RvcxiWns_pLa"
      },
      "source": [
        "The column list has '?' as a value. We can see them with the help of the frequency table.\n",
        "\n",
        "\n",
        "\n",
        "1.   workclass\n",
        "2.   occupation\n",
        "3.   native-country\n",
        "\n",
        "\n",
        "\n",
        "\n"
      ]
    },
    {
      "cell_type": "code",
      "execution_count": null,
      "metadata": {
        "id": "L8gWBZLoAE5q",
        "colab": {
          "base_uri": "https://localhost:8080/"
        },
        "outputId": "8e48eadd-eeb8-4b92-df6e-7f36bbdd2298"
      },
      "outputs": [
        {
          "output_type": "execute_result",
          "data": {
            "text/plain": [
              " Private             33906\n",
              " Self-emp-not-inc     3862\n",
              " Local-gov            3136\n",
              " ?                    2799\n",
              " State-gov            1980\n",
              " Self-emp-inc         1695\n",
              " Federal-gov          1432\n",
              " Without-pay            21\n",
              " Never-worked           10\n",
              "Name: workclass, dtype: int64"
            ]
          },
          "metadata": {},
          "execution_count": 17
        }
      ],
      "source": [
        "#Let's start with 'workclass'\n",
        "main_data['workclass'].value_counts()\n",
        "#Mode is 'Private' for this column. We will replace ? to Private as we agreed above."
      ]
    },
    {
      "cell_type": "code",
      "execution_count": null,
      "metadata": {
        "id": "3-lzz7eY8fvT",
        "colab": {
          "base_uri": "https://localhost:8080/"
        },
        "outputId": "823bd468-13fe-4cee-e50f-e0831c8f1d96"
      },
      "outputs": [
        {
          "output_type": "stream",
          "name": "stderr",
          "text": [
            "/usr/local/lib/python3.7/dist-packages/pandas/core/indexing.py:670: SettingWithCopyWarning: \n",
            "A value is trying to be set on a copy of a slice from a DataFrame\n",
            "\n",
            "See the caveats in the documentation: https://pandas.pydata.org/pandas-docs/stable/user_guide/indexing.html#returning-a-view-versus-a-copy\n",
            "  iloc._setitem_with_indexer(indexer, value)\n"
          ]
        }
      ],
      "source": [
        "#Replace '?' to ''Private'.\n",
        "main_data['workclass'].loc[main_data['workclass'].str.contains('\\?')]=' Private'"
      ]
    },
    {
      "cell_type": "code",
      "execution_count": null,
      "metadata": {
        "id": "3OCy6JdG87HL",
        "colab": {
          "base_uri": "https://localhost:8080/"
        },
        "outputId": "20998261-4e77-4295-8bc2-0ae660d31efa"
      },
      "outputs": [
        {
          "output_type": "execute_result",
          "data": {
            "text/plain": [
              " Private             36705\n",
              " Self-emp-not-inc     3862\n",
              " Local-gov            3136\n",
              " State-gov            1980\n",
              " Self-emp-inc         1695\n",
              " Federal-gov          1432\n",
              " Without-pay            21\n",
              " Never-worked           10\n",
              "Name: workclass, dtype: int64"
            ]
          },
          "metadata": {},
          "execution_count": 19
        }
      ],
      "source": [
        "#Check frequency table again to be sure if there is '?', or not.\n",
        "main_data['workclass'].value_counts()"
      ]
    },
    {
      "cell_type": "code",
      "execution_count": null,
      "metadata": {
        "id": "H0hnZeMSBLDJ",
        "colab": {
          "base_uri": "https://localhost:8080/"
        },
        "outputId": "93a4140e-00ad-43d8-a947-8fcb2d8f3ed9"
      },
      "outputs": [
        {
          "output_type": "execute_result",
          "data": {
            "text/plain": [
              " Prof-specialty       6172\n",
              " Craft-repair         6112\n",
              " Exec-managerial      6086\n",
              " Adm-clerical         5610\n",
              " Sales                5504\n",
              " Other-service        4923\n",
              " Machine-op-inspct    3022\n",
              " ?                    2809\n",
              " Transport-moving     2355\n",
              " Handlers-cleaners    2072\n",
              " Farming-fishing      1490\n",
              " Tech-support         1446\n",
              " Protective-serv       983\n",
              " Priv-house-serv       242\n",
              " Armed-Forces           15\n",
              "Name: occupation, dtype: int64"
            ]
          },
          "metadata": {},
          "execution_count": 20
        }
      ],
      "source": [
        "#Now,we will continue with 'occupation'.\n",
        "main_data['occupation'].value_counts()\n",
        "#Mode is 'Prof-specialty' for this column. "
      ]
    },
    {
      "cell_type": "code",
      "execution_count": null,
      "metadata": {
        "id": "cTJ-dqDBBg86",
        "colab": {
          "base_uri": "https://localhost:8080/"
        },
        "outputId": "03573949-1e9f-4971-d3ed-4cce1a160757"
      },
      "outputs": [
        {
          "output_type": "stream",
          "name": "stderr",
          "text": [
            "/usr/local/lib/python3.7/dist-packages/pandas/core/indexing.py:670: SettingWithCopyWarning: \n",
            "A value is trying to be set on a copy of a slice from a DataFrame\n",
            "\n",
            "See the caveats in the documentation: https://pandas.pydata.org/pandas-docs/stable/user_guide/indexing.html#returning-a-view-versus-a-copy\n",
            "  iloc._setitem_with_indexer(indexer, value)\n"
          ]
        }
      ],
      "source": [
        "#Replace '?' to 'Prof-specialty'\n",
        "main_data['occupation'].loc[main_data['occupation'].str.contains('\\?')]=' Prof-specialty'"
      ]
    },
    {
      "cell_type": "code",
      "execution_count": null,
      "metadata": {
        "id": "UMCdTLC_B3_6",
        "colab": {
          "base_uri": "https://localhost:8080/"
        },
        "outputId": "6b83a441-9bfd-48cc-a359-f64e68f2a72f"
      },
      "outputs": [
        {
          "output_type": "execute_result",
          "data": {
            "text/plain": [
              " Prof-specialty       8981\n",
              " Craft-repair         6112\n",
              " Exec-managerial      6086\n",
              " Adm-clerical         5610\n",
              " Sales                5504\n",
              " Other-service        4923\n",
              " Machine-op-inspct    3022\n",
              " Transport-moving     2355\n",
              " Handlers-cleaners    2072\n",
              " Farming-fishing      1490\n",
              " Tech-support         1446\n",
              " Protective-serv       983\n",
              " Priv-house-serv       242\n",
              " Armed-Forces           15\n",
              "Name: occupation, dtype: int64"
            ]
          },
          "metadata": {},
          "execution_count": 22
        }
      ],
      "source": [
        "#Check frequency table again to be sure if there is '?', or not.\n",
        "main_data['occupation'].value_counts()"
      ]
    },
    {
      "cell_type": "code",
      "execution_count": null,
      "metadata": {
        "id": "4u7grF_WBsNx",
        "colab": {
          "base_uri": "https://localhost:8080/"
        },
        "outputId": "4a26e370-8b30-45c2-9bf5-6bf90dc6bce9"
      },
      "outputs": [
        {
          "output_type": "execute_result",
          "data": {
            "text/plain": [
              " United-States                 43831\n",
              " Mexico                          951\n",
              " ?                               857\n",
              " Philippines                     295\n",
              " Germany                         206\n",
              " Puerto-Rico                     184\n",
              " Canada                          182\n",
              " El-Salvador                     155\n",
              " India                           151\n",
              " Cuba                            138\n",
              " England                         127\n",
              " China                           122\n",
              " South                           115\n",
              " Jamaica                         106\n",
              " Italy                           105\n",
              " Dominican-Republic              103\n",
              " Japan                            92\n",
              " Guatemala                        88\n",
              " Poland                           87\n",
              " Vietnam                          86\n",
              " Columbia                         85\n",
              " Haiti                            75\n",
              " Portugal                         67\n",
              " Taiwan                           65\n",
              " Iran                             59\n",
              " Greece                           49\n",
              " Nicaragua                        49\n",
              " Peru                             46\n",
              " Ecuador                          45\n",
              " France                           38\n",
              " Ireland                          37\n",
              " Thailand                         30\n",
              " Hong                             30\n",
              " Cambodia                         28\n",
              " Trinadad&Tobago                  27\n",
              " Laos                             23\n",
              " Yugoslavia                       23\n",
              " Outlying-US(Guam-USVI-etc)       23\n",
              " Scotland                         21\n",
              " Honduras                         20\n",
              " Hungary                          19\n",
              " Holand-Netherlands                1\n",
              "Name: native-country, dtype: int64"
            ]
          },
          "metadata": {},
          "execution_count": 23
        }
      ],
      "source": [
        "#Now,we will continue with 'native-country'.\n",
        "main_data['native-country'].value_counts()\n",
        "#Mode is 'United-States' for this column. "
      ]
    },
    {
      "cell_type": "code",
      "execution_count": null,
      "metadata": {
        "id": "SDI84EL5CGHr",
        "colab": {
          "base_uri": "https://localhost:8080/"
        },
        "outputId": "916caf78-66d2-44ee-b0de-718217297ec8"
      },
      "outputs": [
        {
          "output_type": "stream",
          "name": "stderr",
          "text": [
            "/usr/local/lib/python3.7/dist-packages/pandas/core/indexing.py:670: SettingWithCopyWarning: \n",
            "A value is trying to be set on a copy of a slice from a DataFrame\n",
            "\n",
            "See the caveats in the documentation: https://pandas.pydata.org/pandas-docs/stable/user_guide/indexing.html#returning-a-view-versus-a-copy\n",
            "  iloc._setitem_with_indexer(indexer, value)\n"
          ]
        }
      ],
      "source": [
        "#Replace '?' to 'United-States'\n",
        "main_data['native-country'].loc[main_data['native-country'].str.contains('\\?')]=' United-States'"
      ]
    },
    {
      "cell_type": "code",
      "execution_count": null,
      "metadata": {
        "id": "geI25W7bCVWz",
        "colab": {
          "base_uri": "https://localhost:8080/"
        },
        "outputId": "cdef8382-4140-4e6c-fac5-453ae4af1ee9"
      },
      "outputs": [
        {
          "output_type": "execute_result",
          "data": {
            "text/plain": [
              " United-States                 44688\n",
              " Mexico                          951\n",
              " Philippines                     295\n",
              " Germany                         206\n",
              " Puerto-Rico                     184\n",
              " Canada                          182\n",
              " El-Salvador                     155\n",
              " India                           151\n",
              " Cuba                            138\n",
              " England                         127\n",
              " China                           122\n",
              " South                           115\n",
              " Jamaica                         106\n",
              " Italy                           105\n",
              " Dominican-Republic              103\n",
              " Japan                            92\n",
              " Guatemala                        88\n",
              " Poland                           87\n",
              " Vietnam                          86\n",
              " Columbia                         85\n",
              " Haiti                            75\n",
              " Portugal                         67\n",
              " Taiwan                           65\n",
              " Iran                             59\n",
              " Greece                           49\n",
              " Nicaragua                        49\n",
              " Peru                             46\n",
              " Ecuador                          45\n",
              " France                           38\n",
              " Ireland                          37\n",
              " Thailand                         30\n",
              " Hong                             30\n",
              " Cambodia                         28\n",
              " Trinadad&Tobago                  27\n",
              " Laos                             23\n",
              " Yugoslavia                       23\n",
              " Outlying-US(Guam-USVI-etc)       23\n",
              " Scotland                         21\n",
              " Honduras                         20\n",
              " Hungary                          19\n",
              " Holand-Netherlands                1\n",
              "Name: native-country, dtype: int64"
            ]
          },
          "metadata": {},
          "execution_count": 25
        }
      ],
      "source": [
        "#Check frequency table again to be sure if there is '?', or not.\n",
        "main_data['native-country'].value_counts()"
      ]
    },
    {
      "cell_type": "code",
      "execution_count": null,
      "metadata": {
        "id": "0S9iFMlJq78i",
        "colab": {
          "base_uri": "https://localhost:8080/"
        },
        "outputId": "15b0a149-731b-4c0e-e7ec-e807d6910e2b"
      },
      "outputs": [
        {
          "output_type": "execute_result",
          "data": {
            "text/plain": [
              " HS-grad         15784\n",
              " Some-college    10878\n",
              " Bachelors        8024\n",
              " Masters          2657\n",
              " Assoc-voc        2061\n",
              " 11th             1812\n",
              " Assoc-acdm       1601\n",
              " 10th             1389\n",
              " 7th-8th           955\n",
              " Prof-school       834\n",
              " 9th               756\n",
              " 12th              657\n",
              " Doctorate         594\n",
              " 5th-6th           509\n",
              " 1st-4th           247\n",
              " Preschool          83\n",
              "Name: education, dtype: int64"
            ]
          },
          "metadata": {},
          "execution_count": 26
        }
      ],
      "source": [
        "#main_data['occupation'].value_counts()\n",
        "#main_data['native-country'].value_counts()\n",
        "#main_data['workclass'].value_counts()\n",
        "#main_data['age'].value_counts()\n",
        "#main_data['race'].value_counts()\n",
        "main_data['education'].value_counts()\n",
        "#main_data['relationship'].value_counts()"
      ]
    },
    {
      "cell_type": "code",
      "execution_count": null,
      "metadata": {
        "id": "aRGhez8PCcVq",
        "colab": {
          "base_uri": "https://localhost:8080/"
        },
        "outputId": "4184fd5b-bc6c-44d3-9c81-c460f6c81fbd"
      },
      "outputs": [
        {
          "output_type": "stream",
          "name": "stdout",
          "text": [
            "(48841, 16)\n",
            "   age          workclass    fnlwgt      education  education-num  \\\n",
            "1   25            Private  226802.0           11th            7.0   \n",
            "2   38            Private   89814.0        HS-grad            9.0   \n",
            "3   28          Local-gov  336951.0     Assoc-acdm           12.0   \n",
            "4   44            Private  160323.0   Some-college           10.0   \n",
            "5   18            Private  103497.0   Some-college           10.0   \n",
            "6   34            Private  198693.0           10th            6.0   \n",
            "7   29            Private  227026.0        HS-grad            9.0   \n",
            "8   63   Self-emp-not-inc  104626.0    Prof-school           15.0   \n",
            "9   24            Private  369667.0   Some-college           10.0   \n",
            "10  55            Private  104996.0        7th-8th            4.0   \n",
            "\n",
            "         marital-status          occupation    relationship    race      sex  \\\n",
            "1         Never-married   Machine-op-inspct       Own-child   Black     Male   \n",
            "2    Married-civ-spouse     Farming-fishing         Husband   White     Male   \n",
            "3    Married-civ-spouse     Protective-serv         Husband   White     Male   \n",
            "4    Married-civ-spouse   Machine-op-inspct         Husband   Black     Male   \n",
            "5         Never-married      Prof-specialty       Own-child   White   Female   \n",
            "6         Never-married       Other-service   Not-in-family   White     Male   \n",
            "7         Never-married      Prof-specialty       Unmarried   Black     Male   \n",
            "8    Married-civ-spouse      Prof-specialty         Husband   White     Male   \n",
            "9         Never-married       Other-service       Unmarried   White   Female   \n",
            "10   Married-civ-spouse        Craft-repair         Husband   White     Male   \n",
            "\n",
            "    capital-gain  capital loss  hours-per-week  native-country   result  \\\n",
            "1            0.0           0.0            40.0   United-States   <=50K.   \n",
            "2            0.0           0.0            50.0   United-States   <=50K.   \n",
            "3            0.0           0.0            40.0   United-States    >50K.   \n",
            "4         7688.0           0.0            40.0   United-States    >50K.   \n",
            "5            0.0           0.0            30.0   United-States   <=50K.   \n",
            "6            0.0           0.0            30.0   United-States   <=50K.   \n",
            "7            0.0           0.0            40.0   United-States   <=50K.   \n",
            "8         3103.0           0.0            32.0   United-States    >50K.   \n",
            "9            0.0           0.0            40.0   United-States   <=50K.   \n",
            "10           0.0           0.0            10.0   United-States   <=50K.   \n",
            "\n",
            "         ind  \n",
            "1   df2_test  \n",
            "2   df2_test  \n",
            "3   df2_test  \n",
            "4   df2_test  \n",
            "5   df2_test  \n",
            "6   df2_test  \n",
            "7   df2_test  \n",
            "8   df2_test  \n",
            "9   df2_test  \n",
            "10  df2_test  \n"
          ]
        }
      ],
      "source": [
        "#Check main_data again.\n",
        "print(main_data.shape)\n",
        "print(main_data.head(10))"
      ]
    },
    {
      "cell_type": "code",
      "execution_count": null,
      "metadata": {
        "id": "UPJDAkQt9xFm",
        "colab": {
          "base_uri": "https://localhost:8080/",
          "height": 726
        },
        "outputId": "d105824a-86d2-428b-a985-f6ba299e1041"
      },
      "outputs": [
        {
          "output_type": "execute_result",
          "data": {
            "text/plain": [
              "array([[<matplotlib.axes._subplots.AxesSubplot object at 0x7fb4eb305e90>,\n",
              "        <matplotlib.axes._subplots.AxesSubplot object at 0x7fb4eb2db610>],\n",
              "       [<matplotlib.axes._subplots.AxesSubplot object at 0x7fb4eb292ad0>,\n",
              "        <matplotlib.axes._subplots.AxesSubplot object at 0x7fb4eb254110>],\n",
              "       [<matplotlib.axes._subplots.AxesSubplot object at 0x7fb4eb20a710>,\n",
              "        <matplotlib.axes._subplots.AxesSubplot object at 0x7fb4eb1bfc90>]],\n",
              "      dtype=object)"
            ]
          },
          "metadata": {},
          "execution_count": 28
        },
        {
          "output_type": "display_data",
          "data": {
            "image/png": "[encoded data removed]",
            "text/plain": [
              "<Figure size 1080x720 with 6 Axes>"
            ]
          },
          "metadata": {
            "needs_background": "light"
          }
        }
      ],
      "source": [
        "#Plot a histogram for each numerical attribute in the main_data\n",
        "main_data.hist(bins=30, figsize=(15, 10))"
      ]
    },
    {
      "cell_type": "code",
      "execution_count": null,
      "metadata": {
        "id": "ba0gDP229wx4",
        "colab": {
          "base_uri": "https://localhost:8080/",
          "height": 602
        },
        "outputId": "2643aacb-65ae-4c24-ba08-6c802dfffc7d"
      },
      "outputs": [
        {
          "output_type": "display_data",
          "data": {
            "image/png": "[encoded data removed]",
            "text/plain": [
              "<Figure size 1080x720 with 1 Axes>"
            ]
          },
          "metadata": {
            "needs_background": "light"
          }
        }
      ],
      "source": [
        "#Plot a boxplot for each numerical attribute in the main_data.\n",
        "#Boxplot for 'fnlwgt'.\n",
        "boxplot = main_data.boxplot(column=['fnlwgt'],figsize=(15, 10),boxprops=dict(color='red'))"
      ]
    },
    {
      "cell_type": "code",
      "execution_count": null,
      "metadata": {
        "id": "GozzSXi0HMhI",
        "colab": {
          "base_uri": "https://localhost:8080/",
          "height": 592
        },
        "outputId": "60648d30-e9c2-4801-a923-0360346085cc"
      },
      "outputs": [
        {
          "output_type": "display_data",
          "data": {
            "image/png": "[encoded data removed]",
            "text/plain": [
              "<Figure size 1080x720 with 1 Axes>"
            ]
          },
          "metadata": {
            "needs_background": "light"
          }
        }
      ],
      "source": [
        "#Boxplot for 'education-num'.\n",
        "boxplot = main_data.boxplot(column=['education-num'],figsize=(15, 10),boxprops=dict(color='green'))"
      ]
    },
    {
      "cell_type": "code",
      "execution_count": null,
      "metadata": {
        "id": "zbU1dcYnHMci",
        "colab": {
          "base_uri": "https://localhost:8080/",
          "height": 592
        },
        "outputId": "f886115c-3834-41b5-ef82-eb3c29b28117"
      },
      "outputs": [
        {
          "output_type": "display_data",
          "data": {
            "image/png": "[encoded data removed]",
            "text/plain": [
              "<Figure size 1080x720 with 1 Axes>"
            ]
          },
          "metadata": {
            "needs_background": "light"
          }
        }
      ],
      "source": [
        "#Boxplot for 'capital-gain'.\n",
        "boxplot = main_data.boxplot(column=['capital-gain'],figsize=(15, 10),boxprops=dict(color='blue'))"
      ]
    },
    {
      "cell_type": "code",
      "execution_count": null,
      "metadata": {
        "id": "OXSq3Sp9HMU3",
        "colab": {
          "base_uri": "https://localhost:8080/",
          "height": 592
        },
        "outputId": "b2a12663-ccaf-44e0-a908-6dfef25fef6b"
      },
      "outputs": [
        {
          "output_type": "display_data",
          "data": {
            "image/png": "[encoded data removed]",
            "text/plain": [
              "<Figure size 1080x720 with 1 Axes>"
            ]
          },
          "metadata": {
            "needs_background": "light"
          }
        }
      ],
      "source": [
        "#Boxplot for 'capital loss'.\n",
        "boxplot = main_data.boxplot(column=['capital loss'],figsize=(15, 10),boxprops=dict(color='red'))"
      ]
    },
    {
      "cell_type": "code",
      "execution_count": null,
      "metadata": {
        "id": "ukcB3LaxHMLP",
        "colab": {
          "base_uri": "https://localhost:8080/",
          "height": 592
        },
        "outputId": "667da433-f114-4ef8-9eae-6e557eeed18f"
      },
      "outputs": [
        {
          "output_type": "display_data",
          "data": {
            "image/png": "[encoded data removed]",
            "text/plain": [
              "<Figure size 1080x720 with 1 Axes>"
            ]
          },
          "metadata": {
            "needs_background": "light"
          }
        }
      ],
      "source": [
        "#Boxplot for 'hours-per-week'.\n",
        "boxplot = main_data.boxplot(column=['hours-per-week'],figsize=(15, 10),boxprops=dict(color='green'))"
      ]
    },
    {
      "cell_type": "markdown",
      "metadata": {
        "id": "ubL1M6GHP_Mc"
      },
      "source": [
        "# **Four Outlier Detection Techniques**\n",
        "\n",
        "1.   **Numeric Outlier**<br>\n",
        "This is the simplest, nonparametric outlier detection method in a one dimensional feature space. Here outliers are calculated by means of the IQR (InterQuartile Range).The first and the third quartile (Q1, Q3) are calculated. An outlier is then a data point x_i that lies outside the interquartile range. Using the interquartile multiplier value k=1, the range limits are the typical upper and lower whiskers of a box plot.\n",
        "\n",
        "2.   Z-Score\n",
        "3.   DBSCAN\n",
        "4.   Isolation Forest\n",
        "\n",
        "For our dataset, we will interpret boxplots & histograms and apply the first one, Numeric Outlier.\n",
        "\n",
        "\n"
      ]
    },
    {
      "cell_type": "code",
      "execution_count": null,
      "metadata": {
        "id": "9k8-r8clUXWT"
      },
      "outputs": [],
      "source": [
        "#Write a function to calculate IOR for each numerical attribute and show skewness\n",
        "def detection_outlier(dfcolumn):\n",
        "#Calculate Q1, Q3 and IQR\n",
        " Q1 = dfcolumn.quantile(0.25)\n",
        " Q3 = dfcolumn.quantile(0.75)\n",
        " IQR = Q3-Q1 #Interquartile range\n",
        "#In general, constant should be 1.\n",
        " lower  = Q1-1*IQR\n",
        " higher = Q3+1*IQR\n",
        "#Find number of outliers for specific column\n",
        " print('Before data preprocessing:')\n",
        " print('Skewness:',dfcolumn.skew())\n",
        " print(dfcolumn.describe())\n",
        " dfcolumn.loc[(dfcolumn> higher) | (dfcolumn< lower)]=dfcolumn.mean()\n",
        " print('After replacing outliers by mean:')\n",
        " print('Skewness:',dfcolumn.skew())\n",
        " print('Median:',dfcolumn.median())\n",
        " print('IQR value:',IQR)\n",
        " print('Lower,Higher:',lower,',',higher)\n",
        " return "
      ]
    },
    {
      "cell_type": "markdown",
      "metadata": {
        "id": "Mf0vAfWgW9Oi"
      },
      "source": [
        "# **How to handle Outliers?**\n",
        "\n",
        "\n",
        "1.   Set up a filter in your testing tool.\n",
        "2.   Remove or change outliers during post-test analysis.\n",
        "3.  **Change the value of outliers.**\n",
        "4.   Consider the underlying distribution\n",
        "5.   Consider the value of mild outliers.\n",
        "\n",
        "\n",
        "To remove outliers, we will change the value of outliers. Deleting observations is not logical because of amount of the outliers. We also don't know if these are natural outliers or artificials. <br>\n",
        "**Note1:** If the skewness is between -0.5 and 0.5, the data are fairly symmetrical. If the skewness is between -1 and – 0.5 or between 0.5 and 1, the data are moderately skewed. If the skewness is less than -1 or greater than 1, the data are highly skewed.<br>\n",
        "**Sub-result1:** Replacing the values of outliers with median was not effective(Tried).<br>\n",
        "**Sub-result2:** As a second method, we tried to remove outliers from our dataframe by IQR method. It was not efficient.<br>\n",
        "**Sub-result3:** Log transformation was also not effective for outliers.<br>\n",
        "**Sub-result4:** Z-score was also not effective for outliers.<br>\n",
        "**Result:** We found the outliers with the help of IOR method(numeric values) and changed the values of outliers by mean for each column.\n"
      ]
    },
    {
      "cell_type": "code",
      "execution_count": null,
      "metadata": {
        "id": "4KS-hfeRVGM6",
        "colab": {
          "base_uri": "https://localhost:8080/"
        },
        "outputId": "0d1079a8-b911-4e5b-8926-ed1ca229c81f"
      },
      "outputs": [
        {
          "output_type": "stream",
          "name": "stdout",
          "text": [
            "Before data preprocessing:\n",
            "Skewness: 1.4388862793258443\n",
            "count    4.884100e+04\n",
            "mean     1.896664e+05\n",
            "std      1.056039e+05\n",
            "min      1.228500e+04\n",
            "25%      1.175550e+05\n",
            "50%      1.781470e+05\n",
            "75%      2.376460e+05\n",
            "max      1.490400e+06\n",
            "Name: fnlwgt, dtype: float64\n",
            "After replacing outliers by mean:\n",
            "Skewness: 0.15564508961150672\n",
            "Median: 178147.0\n",
            "IQR value: 120091.0\n",
            "Lower,Higher: -2536.0 , 357737.0\n"
          ]
        },
        {
          "output_type": "stream",
          "name": "stderr",
          "text": [
            "/usr/local/lib/python3.7/dist-packages/pandas/core/indexing.py:670: SettingWithCopyWarning: \n",
            "A value is trying to be set on a copy of a slice from a DataFrame\n",
            "\n",
            "See the caveats in the documentation: https://pandas.pydata.org/pandas-docs/stable/user_guide/indexing.html#returning-a-view-versus-a-copy\n",
            "  iloc._setitem_with_indexer(indexer, value)\n"
          ]
        }
      ],
      "source": [
        "detection_outlier(main_data['fnlwgt'])"
      ]
    },
    {
      "cell_type": "code",
      "execution_count": null,
      "metadata": {
        "id": "Fzkf_r4rZOCy",
        "colab": {
          "base_uri": "https://localhost:8080/"
        },
        "outputId": "746680d9-b923-4fe3-cb4c-398cbfaee316"
      },
      "outputs": [
        {
          "output_type": "stream",
          "name": "stdout",
          "text": [
            "Before data preprocessing:\n",
            "Skewness: 11.894554083731773\n",
            "count    48841.000000\n",
            "mean      1079.045208\n",
            "std       7452.093700\n",
            "min          0.000000\n",
            "25%          0.000000\n",
            "50%          0.000000\n",
            "75%          0.000000\n",
            "max      99999.000000\n",
            "Name: capital-gain, dtype: float64\n",
            "After replacing outliers by mean:\n",
            "Skewness: 3.032809452291708\n",
            "Median: 0.0\n",
            "IQR value: 0.0\n",
            "Lower,Higher: 0.0 , 0.0\n"
          ]
        },
        {
          "output_type": "stream",
          "name": "stderr",
          "text": [
            "/usr/local/lib/python3.7/dist-packages/pandas/core/indexing.py:670: SettingWithCopyWarning: \n",
            "A value is trying to be set on a copy of a slice from a DataFrame\n",
            "\n",
            "See the caveats in the documentation: https://pandas.pydata.org/pandas-docs/stable/user_guide/indexing.html#returning-a-view-versus-a-copy\n",
            "  iloc._setitem_with_indexer(indexer, value)\n"
          ]
        }
      ],
      "source": [
        "detection_outlier(main_data['capital-gain'])"
      ]
    },
    {
      "cell_type": "code",
      "execution_count": null,
      "metadata": {
        "id": "tVSUPaqIZN66",
        "colab": {
          "base_uri": "https://localhost:8080/"
        },
        "outputId": "a549e318-e7ad-4476-e2ad-00b698089ede"
      },
      "outputs": [
        {
          "output_type": "stream",
          "name": "stdout",
          "text": [
            "Before data preprocessing:\n",
            "Skewness: 4.569755567864217\n",
            "count    48841.000000\n",
            "mean        87.504105\n",
            "std        403.008483\n",
            "min          0.000000\n",
            "25%          0.000000\n",
            "50%          0.000000\n",
            "75%          0.000000\n",
            "max       4356.000000\n",
            "Name: capital loss, dtype: float64\n",
            "After replacing outliers by mean:\n",
            "Skewness: 4.2956796240515205\n",
            "Median: 0.0\n",
            "IQR value: 0.0\n",
            "Lower,Higher: 0.0 , 0.0\n"
          ]
        },
        {
          "output_type": "stream",
          "name": "stderr",
          "text": [
            "/usr/local/lib/python3.7/dist-packages/pandas/core/indexing.py:670: SettingWithCopyWarning: \n",
            "A value is trying to be set on a copy of a slice from a DataFrame\n",
            "\n",
            "See the caveats in the documentation: https://pandas.pydata.org/pandas-docs/stable/user_guide/indexing.html#returning-a-view-versus-a-copy\n",
            "  iloc._setitem_with_indexer(indexer, value)\n"
          ]
        }
      ],
      "source": [
        "detection_outlier(main_data['capital loss'])"
      ]
    },
    {
      "cell_type": "code",
      "execution_count": null,
      "metadata": {
        "id": "RagrdVa9ZNwZ",
        "colab": {
          "base_uri": "https://localhost:8080/"
        },
        "outputId": "3edb9060-a7ac-4989-f403-1db1d32fff3b"
      },
      "outputs": [
        {
          "output_type": "stream",
          "name": "stdout",
          "text": [
            "Before data preprocessing:\n",
            "Skewness: 0.2387451287751267\n",
            "count    48841.000000\n",
            "mean        40.422391\n",
            "std         12.391571\n",
            "min          1.000000\n",
            "25%         40.000000\n",
            "50%         40.000000\n",
            "75%         45.000000\n",
            "max         99.000000\n",
            "Name: hours-per-week, dtype: float64\n",
            "After replacing outliers by mean:\n",
            "Skewness: 1.470243153320307\n",
            "Median: 40.0\n",
            "IQR value: 5.0\n",
            "Lower,Higher: 35.0 , 50.0\n"
          ]
        },
        {
          "output_type": "stream",
          "name": "stderr",
          "text": [
            "/usr/local/lib/python3.7/dist-packages/pandas/core/indexing.py:670: SettingWithCopyWarning: \n",
            "A value is trying to be set on a copy of a slice from a DataFrame\n",
            "\n",
            "See the caveats in the documentation: https://pandas.pydata.org/pandas-docs/stable/user_guide/indexing.html#returning-a-view-versus-a-copy\n",
            "  iloc._setitem_with_indexer(indexer, value)\n"
          ]
        }
      ],
      "source": [
        "detection_outlier(main_data['hours-per-week'])"
      ]
    },
    {
      "cell_type": "code",
      "execution_count": null,
      "metadata": {
        "id": "vNuFLtmLZTG5",
        "colab": {
          "base_uri": "https://localhost:8080/"
        },
        "outputId": "ff89278f-90dc-4a6e-dd7c-2b53b1180cb9"
      },
      "outputs": [
        {
          "output_type": "stream",
          "name": "stdout",
          "text": [
            "Before data preprocessing:\n",
            "Skewness: -0.3164944195509983\n",
            "count    48841.000000\n",
            "mean        10.078029\n",
            "std          2.570965\n",
            "min          1.000000\n",
            "25%          9.000000\n",
            "50%         10.000000\n",
            "75%         12.000000\n",
            "max         16.000000\n",
            "Name: education-num, dtype: float64\n",
            "After replacing outliers by mean:\n",
            "Skewness: 0.3819504898778172\n",
            "Median: 10.0\n",
            "IQR value: 3.0\n",
            "Lower,Higher: 6.0 , 15.0\n"
          ]
        },
        {
          "output_type": "stream",
          "name": "stderr",
          "text": [
            "/usr/local/lib/python3.7/dist-packages/pandas/core/indexing.py:670: SettingWithCopyWarning: \n",
            "A value is trying to be set on a copy of a slice from a DataFrame\n",
            "\n",
            "See the caveats in the documentation: https://pandas.pydata.org/pandas-docs/stable/user_guide/indexing.html#returning-a-view-versus-a-copy\n",
            "  iloc._setitem_with_indexer(indexer, value)\n"
          ]
        }
      ],
      "source": [
        "detection_outlier(main_data['education-num'])"
      ]
    },
    {
      "cell_type": "code",
      "execution_count": null,
      "metadata": {
        "id": "omyw3lgHZctG",
        "colab": {
          "base_uri": "https://localhost:8080/",
          "height": 600
        },
        "outputId": "3983f7a2-6da4-4c84-e4c7-9b70602ae64e"
      },
      "outputs": [
        {
          "output_type": "stream",
          "name": "stdout",
          "text": [
            "Duplicate Rows :\n"
          ]
        },
        {
          "output_type": "execute_result",
          "data": {
            "text/html": [
              "<div>\n",
              "<style scoped>\n",
              "    .dataframe tbody tr th:only-of-type {\n",
              "        vertical-align: middle;\n",
              "    }\n",
              "\n",
              "    .dataframe tbody tr th {\n",
              "        vertical-align: top;\n",
              "    }\n",
              "\n",
              "    .dataframe thead th {\n",
              "        text-align: right;\n",
              "    }\n",
              "</style>\n",
              "<table border=\"1\" class=\"dataframe\">\n",
              "  <thead>\n",
              "    <tr style=\"text-align: right;\">\n",
              "      <th></th>\n",
              "      <th>age</th>\n",
              "      <th>workclass</th>\n",
              "      <th>fnlwgt</th>\n",
              "      <th>education</th>\n",
              "      <th>education-num</th>\n",
              "      <th>marital-status</th>\n",
              "      <th>occupation</th>\n",
              "      <th>relationship</th>\n",
              "      <th>race</th>\n",
              "      <th>sex</th>\n",
              "      <th>capital-gain</th>\n",
              "      <th>capital loss</th>\n",
              "      <th>hours-per-week</th>\n",
              "      <th>native-country</th>\n",
              "      <th>result</th>\n",
              "      <th>ind</th>\n",
              "    </tr>\n",
              "  </thead>\n",
              "  <tbody>\n",
              "    <tr>\n",
              "      <th>865</th>\n",
              "      <td>24</td>\n",
              "      <td>Private</td>\n",
              "      <td>194630.000000</td>\n",
              "      <td>Bachelors</td>\n",
              "      <td>13.0</td>\n",
              "      <td>Never-married</td>\n",
              "      <td>Prof-specialty</td>\n",
              "      <td>Not-in-family</td>\n",
              "      <td>White</td>\n",
              "      <td>Male</td>\n",
              "      <td>0.0</td>\n",
              "      <td>0.0</td>\n",
              "      <td>35.000000</td>\n",
              "      <td>United-States</td>\n",
              "      <td>&lt;=50K.</td>\n",
              "      <td>df2_test</td>\n",
              "    </tr>\n",
              "    <tr>\n",
              "      <th>3234</th>\n",
              "      <td>18</td>\n",
              "      <td>Private</td>\n",
              "      <td>161245.000000</td>\n",
              "      <td>11th</td>\n",
              "      <td>7.0</td>\n",
              "      <td>Never-married</td>\n",
              "      <td>Other-service</td>\n",
              "      <td>Own-child</td>\n",
              "      <td>White</td>\n",
              "      <td>Male</td>\n",
              "      <td>0.0</td>\n",
              "      <td>0.0</td>\n",
              "      <td>40.422391</td>\n",
              "      <td>United-States</td>\n",
              "      <td>&lt;=50K.</td>\n",
              "      <td>df2_test</td>\n",
              "    </tr>\n",
              "    <tr>\n",
              "      <th>6051</th>\n",
              "      <td>21</td>\n",
              "      <td>Private</td>\n",
              "      <td>189666.430786</td>\n",
              "      <td>Some-college</td>\n",
              "      <td>10.0</td>\n",
              "      <td>Never-married</td>\n",
              "      <td>Prof-specialty</td>\n",
              "      <td>Own-child</td>\n",
              "      <td>White</td>\n",
              "      <td>Female</td>\n",
              "      <td>0.0</td>\n",
              "      <td>0.0</td>\n",
              "      <td>40.000000</td>\n",
              "      <td>United-States</td>\n",
              "      <td>&lt;=50K.</td>\n",
              "      <td>df2_test</td>\n",
              "    </tr>\n",
              "    <tr>\n",
              "      <th>9487</th>\n",
              "      <td>23</td>\n",
              "      <td>Private</td>\n",
              "      <td>189666.430786</td>\n",
              "      <td>Bachelors</td>\n",
              "      <td>13.0</td>\n",
              "      <td>Never-married</td>\n",
              "      <td>Exec-managerial</td>\n",
              "      <td>Not-in-family</td>\n",
              "      <td>White</td>\n",
              "      <td>Male</td>\n",
              "      <td>0.0</td>\n",
              "      <td>0.0</td>\n",
              "      <td>40.422391</td>\n",
              "      <td>United-States</td>\n",
              "      <td>&lt;=50K.</td>\n",
              "      <td>df2_test</td>\n",
              "    </tr>\n",
              "    <tr>\n",
              "      <th>9820</th>\n",
              "      <td>20</td>\n",
              "      <td>Private</td>\n",
              "      <td>189666.430786</td>\n",
              "      <td>Some-college</td>\n",
              "      <td>10.0</td>\n",
              "      <td>Never-married</td>\n",
              "      <td>Other-service</td>\n",
              "      <td>Own-child</td>\n",
              "      <td>White</td>\n",
              "      <td>Female</td>\n",
              "      <td>0.0</td>\n",
              "      <td>0.0</td>\n",
              "      <td>40.422391</td>\n",
              "      <td>United-States</td>\n",
              "      <td>&lt;=50K.</td>\n",
              "      <td>df2_test</td>\n",
              "    </tr>\n",
              "    <tr>\n",
              "      <th>10625</th>\n",
              "      <td>22</td>\n",
              "      <td>Private</td>\n",
              "      <td>189666.430786</td>\n",
              "      <td>Some-college</td>\n",
              "      <td>10.0</td>\n",
              "      <td>Never-married</td>\n",
              "      <td>Craft-repair</td>\n",
              "      <td>Own-child</td>\n",
              "      <td>White</td>\n",
              "      <td>Male</td>\n",
              "      <td>0.0</td>\n",
              "      <td>0.0</td>\n",
              "      <td>40.000000</td>\n",
              "      <td>United-States</td>\n",
              "      <td>&lt;=50K.</td>\n",
              "      <td>df2_test</td>\n",
              "    </tr>\n",
              "    <tr>\n",
              "      <th>11190</th>\n",
              "      <td>37</td>\n",
              "      <td>Private</td>\n",
              "      <td>52870.000000</td>\n",
              "      <td>Bachelors</td>\n",
              "      <td>13.0</td>\n",
              "      <td>Married-civ-spouse</td>\n",
              "      <td>Exec-managerial</td>\n",
              "      <td>Husband</td>\n",
              "      <td>White</td>\n",
              "      <td>Male</td>\n",
              "      <td>0.0</td>\n",
              "      <td>0.0</td>\n",
              "      <td>40.000000</td>\n",
              "      <td>United-States</td>\n",
              "      <td>&lt;=50K.</td>\n",
              "      <td>df2_test</td>\n",
              "    </tr>\n",
              "    <tr>\n",
              "      <th>11213</th>\n",
              "      <td>29</td>\n",
              "      <td>Private</td>\n",
              "      <td>36440.000000</td>\n",
              "      <td>Bachelors</td>\n",
              "      <td>13.0</td>\n",
              "      <td>Never-married</td>\n",
              "      <td>Adm-clerical</td>\n",
              "      <td>Not-in-family</td>\n",
              "      <td>White</td>\n",
              "      <td>Female</td>\n",
              "      <td>0.0</td>\n",
              "      <td>0.0</td>\n",
              "      <td>40.000000</td>\n",
              "      <td>United-States</td>\n",
              "      <td>&lt;=50K.</td>\n",
              "      <td>df2_test</td>\n",
              "    </tr>\n",
              "    <tr>\n",
              "      <th>12176</th>\n",
              "      <td>18</td>\n",
              "      <td>Private</td>\n",
              "      <td>189666.430786</td>\n",
              "      <td>Some-college</td>\n",
              "      <td>10.0</td>\n",
              "      <td>Never-married</td>\n",
              "      <td>Adm-clerical</td>\n",
              "      <td>Not-in-family</td>\n",
              "      <td>White</td>\n",
              "      <td>Female</td>\n",
              "      <td>0.0</td>\n",
              "      <td>0.0</td>\n",
              "      <td>40.000000</td>\n",
              "      <td>United-States</td>\n",
              "      <td>&lt;=50K.</td>\n",
              "      <td>df2_test</td>\n",
              "    </tr>\n",
              "    <tr>\n",
              "      <th>12950</th>\n",
              "      <td>18</td>\n",
              "      <td>Private</td>\n",
              "      <td>189666.430786</td>\n",
              "      <td>Some-college</td>\n",
              "      <td>10.0</td>\n",
              "      <td>Never-married</td>\n",
              "      <td>Sales</td>\n",
              "      <td>Own-child</td>\n",
              "      <td>White</td>\n",
              "      <td>Female</td>\n",
              "      <td>0.0</td>\n",
              "      <td>0.0</td>\n",
              "      <td>40.422391</td>\n",
              "      <td>United-States</td>\n",
              "      <td>&lt;=50K.</td>\n",
              "      <td>df2_test</td>\n",
              "    </tr>\n",
              "  </tbody>\n",
              "</table>\n",
              "</div>"
            ],
            "text/plain": [
              "      age workclass         fnlwgt      education  education-num  \\\n",
              "865    24   Private  194630.000000      Bachelors           13.0   \n",
              "3234   18   Private  161245.000000           11th            7.0   \n",
              "6051   21   Private  189666.430786   Some-college           10.0   \n",
              "9487   23   Private  189666.430786      Bachelors           13.0   \n",
              "9820   20   Private  189666.430786   Some-college           10.0   \n",
              "10625  22   Private  189666.430786   Some-college           10.0   \n",
              "11190  37   Private   52870.000000      Bachelors           13.0   \n",
              "11213  29   Private   36440.000000      Bachelors           13.0   \n",
              "12176  18   Private  189666.430786   Some-college           10.0   \n",
              "12950  18   Private  189666.430786   Some-college           10.0   \n",
              "\n",
              "            marital-status        occupation    relationship    race      sex  \\\n",
              "865          Never-married    Prof-specialty   Not-in-family   White     Male   \n",
              "3234         Never-married     Other-service       Own-child   White     Male   \n",
              "6051         Never-married    Prof-specialty       Own-child   White   Female   \n",
              "9487         Never-married   Exec-managerial   Not-in-family   White     Male   \n",
              "9820         Never-married     Other-service       Own-child   White   Female   \n",
              "10625        Never-married      Craft-repair       Own-child   White     Male   \n",
              "11190   Married-civ-spouse   Exec-managerial         Husband   White     Male   \n",
              "11213        Never-married      Adm-clerical   Not-in-family   White   Female   \n",
              "12176        Never-married      Adm-clerical   Not-in-family   White   Female   \n",
              "12950        Never-married             Sales       Own-child   White   Female   \n",
              "\n",
              "       capital-gain  capital loss  hours-per-week  native-country   result  \\\n",
              "865             0.0           0.0       35.000000   United-States   <=50K.   \n",
              "3234            0.0           0.0       40.422391   United-States   <=50K.   \n",
              "6051            0.0           0.0       40.000000   United-States   <=50K.   \n",
              "9487            0.0           0.0       40.422391   United-States   <=50K.   \n",
              "9820            0.0           0.0       40.422391   United-States   <=50K.   \n",
              "10625           0.0           0.0       40.000000   United-States   <=50K.   \n",
              "11190           0.0           0.0       40.000000   United-States   <=50K.   \n",
              "11213           0.0           0.0       40.000000   United-States   <=50K.   \n",
              "12176           0.0           0.0       40.000000   United-States   <=50K.   \n",
              "12950           0.0           0.0       40.422391   United-States   <=50K.   \n",
              "\n",
              "            ind  \n",
              "865    df2_test  \n",
              "3234   df2_test  \n",
              "6051   df2_test  \n",
              "9487   df2_test  \n",
              "9820   df2_test  \n",
              "10625  df2_test  \n",
              "11190  df2_test  \n",
              "11213  df2_test  \n",
              "12176  df2_test  \n",
              "12950  df2_test  "
            ]
          },
          "metadata": {},
          "execution_count": 40
        }
      ],
      "source": [
        "#Find duplicates in dataframe\n",
        "duplicate = main_data[main_data.duplicated()]\n",
        "pd.set_option(\"display.max_rows\", None)  \n",
        "print(\"Duplicate Rows :\")\n",
        "duplicate.head(10)"
      ]
    },
    {
      "cell_type": "code",
      "execution_count": null,
      "metadata": {
        "id": "VJLBpcBLc52D"
      },
      "outputs": [],
      "source": [
        "#Drop dublicates\n",
        "main_data.drop_duplicates()\n",
        "#print(main_data.head(10))"
      ]
    },
    {
      "cell_type": "code",
      "execution_count": null,
      "metadata": {
        "id": "y56fT3mmSUzf"
      },
      "outputs": [],
      "source": [
        "#boxplot = main_data.boxplot(column=['fnlwgt'],figsize=(15, 10),boxprops=dict(color='red'))\n",
        "#boxplot = main_data.boxplot(column=['capital-gain'],figsize=(15, 10),boxprops=dict(color='blue'))\n",
        "#boxplot = main_data.boxplot(column=['capital loss'],figsize=(15, 10),boxprops=dict(color='red'))\n",
        "#boxplot = main_data.boxplot(column=['education-num'],figsize=(15, 10),boxprops=dict(color='red'))\n",
        "#boxplot = main_data.boxplot(column=['hours-per-week'],figsize=(15, 10),boxprops=dict(color='green'))\n",
        "main_data.hist(bins=30, figsize=(15, 10))"
      ]
    },
    {
      "cell_type": "code",
      "execution_count": null,
      "metadata": {
        "id": "6ZiILa_iddNT"
      },
      "outputs": [],
      "source": [
        "test, train = main_data[main_data[\"ind\"].eq(\"df2_test\")], main_data[main_data[\"ind\"].eq(\"df2_train\")]"
      ]
    },
    {
      "cell_type": "code",
      "execution_count": null,
      "metadata": {
        "id": "LFKGEQR-dvAb"
      },
      "outputs": [],
      "source": [
        "#print(train.shape)\n",
        "#print(test.shape)\n",
        "train['result'].value_counts()\n",
        "g = sns.countplot(train['result'])\n",
        "g.set_xticklabels(['<=50K','>50K'])\n",
        "plt.show()"
      ]
    },
    {
      "cell_type": "markdown",
      "metadata": {
        "id": "AAUdzkw2p7Xb"
      },
      "source": [
        "In a binary classification problem with data samples from two groups, class imbalance occurs when one class, the minority group, contains significantly fewer samples than the other class, the majority group. Class imbalance is easily identified by looking at the distribution of the target class within  dataset. **As we can see easily, our dataset suffers the class imbalance problem**. <br>\n",
        "\n",
        "When a class imbalance exists within the training data, machine learning models will typically over-classify the larger class(es) due to their increased prior probability. As a result, the instances belonging to the smaller class(es) are typically misclassified more often than those belonging to the larger class(es). <br> Other disadvantages:\n",
        "\n",
        "*   Unequal Cost of Misclassification Errors\n",
        "*   Skewed Class Distribution\n",
        "\n",
        "*(https://towardsdatascience.com/training-models-on-imbalanced-data-561fa3f842b5)*"
      ]
    },
    {
      "cell_type": "markdown",
      "metadata": {
        "id": "jYRIj96isITf"
      },
      "source": [
        "**To Combat Imbalanced Training Data**\n",
        "\n",
        "In general, main option are as below: <br>\n",
        "*   Collect More Data\n",
        "*   Change Performance Metric\n",
        "*   **Random Undersampling and Oversampling**\n",
        "*   Try Different Algorithms\n",
        "*   Try Penalized Models\n",
        "\n",
        "We will continue with Random Undersampling and Oversampling. \n",
        "\n",
        "\n",
        "\n",
        "\n",
        "\n",
        "\n",
        "\n",
        "\n",
        "\n",
        "\n",
        "\n"
      ]
    },
    {
      "cell_type": "code",
      "execution_count": null,
      "metadata": {
        "id": "NQwj7-RDOVxp"
      },
      "outputs": [],
      "source": [
        "print(train.head(10))"
      ]
    },
    {
      "cell_type": "code",
      "execution_count": null,
      "metadata": {
        "id": "j2nJ5WkoWdvI"
      },
      "outputs": [],
      "source": [
        "#Prepare training dataset as inputs for oversample function\n",
        "#print(train.head(10))\n",
        "X=train.iloc[:, : 14]\n",
        "y=train.iloc[:, 14: 15]\n",
        "#print(X.head(10))\n",
        "#print(y.head(10))"
      ]
    },
    {
      "cell_type": "code",
      "execution_count": null,
      "metadata": {
        "id": "qFHWvFPSdKiP"
      },
      "outputs": [],
      "source": [
        "#Use prepared RandomOverSampler function to solve class imbalance problem\n",
        "oversample = RandomOverSampler(sampling_strategy='minority')\n",
        "#Fit and apply the transform\n",
        "X_over, y_over = oversample.fit_resample(X, y)"
      ]
    },
    {
      "cell_type": "code",
      "execution_count": null,
      "metadata": {
        "id": "nmSFZ-qHfZp-"
      },
      "outputs": [],
      "source": [
        "#Combine outputs to obtain train dataset again and draw a graph to illustrate the distribution of labels\n",
        "train=pd.merge(X_over, y_over, left_index=True, right_index=True)\n",
        "#train.head(7)\n",
        "print('After oversampling:',train.shape)\n",
        "train['result'].value_counts()\n",
        "g = sns.countplot(train['result'])\n",
        "g.set_xticklabels(['<=50K','>50K'])"
      ]
    },
    {
      "cell_type": "code",
      "execution_count": null,
      "metadata": {
        "id": "631xH5SgdzZF"
      },
      "outputs": [],
      "source": [
        "#Check the inputs and outputs\n",
        "print(X.shape,y.shape)\n",
        "print(X_over.shape,y_over.shape)\n",
        "print(X_over.head(5))\n",
        "print(y_over.head(5))"
      ]
    },
    {
      "cell_type": "code",
      "execution_count": null,
      "metadata": {
        "id": "cY1QzKduz-RG"
      },
      "outputs": [],
      "source": [
        "#Combine test and train datasets\n",
        "main_data = pd.concat([test.assign(ind=\"test\"), train.assign(ind=\"train\")]) "
      ]
    },
    {
      "cell_type": "markdown",
      "metadata": {
        "id": "VHCNPgLQ7_05"
      },
      "source": [
        "# ● Bivariate analysis / Checking for correlations <br>\n",
        "○ Plot the correlation matrix. Use colors to indicate the intensity of\n",
        "correlation. Are there correlated attributes? <br>\n",
        "\n",
        "**Note**: Bivariate analysis is one of the simplest forms of quantitative (statistical) analysis. It involves the analysis of two variables (often denoted as X, Y), for the purpose of determining the empirical relationship between them. <br>\n",
        "*(https://en.wikipedia.org/wiki/Bivariate_analysis)* <br>\n",
        "\n",
        "Correlation varies between -1 and +1.\n",
        "\n",
        "*   -1: perfect negative linear correlation\n",
        "*   +1:perfect positive linear correlation\n",
        "*   No correlation\n",
        "\n",
        "Correlation can be derived using following formula:\n",
        "\n",
        "\n",
        "*   **Correlation = Covariance(X,Y) / SQRT( Var(X)* Var(Y))**\n",
        "\n",
        "\n",
        "\n"
      ]
    },
    {
      "cell_type": "markdown",
      "metadata": {
        "id": "1wI0DXKn09OP"
      },
      "source": [
        "Features with high correlation are more linearly dependent and hence have almost the same effect on the dependent variable. So, when two features have high correlation, we can drop one of the two features."
      ]
    },
    {
      "cell_type": "code",
      "execution_count": null,
      "metadata": {
        "id": "snfpugsXHpdA"
      },
      "outputs": [],
      "source": [
        "#Correlation matrix with colorful indicators\n",
        "f = plt.figure(figsize=(19, 15))\n",
        "plt.matshow(main_data.corr(), fignum=f.number)\n",
        "plt.xticks(range(main_data.select_dtypes(['number']).shape[1]), main_data.select_dtypes(['number']).columns, fontsize=14, rotation=45)\n",
        "plt.yticks(range(main_data.select_dtypes(['number']).shape[1]), main_data.select_dtypes(['number']).columns, fontsize=14)\n",
        "cb = plt.colorbar()\n",
        "cb.ax.tick_params(labelsize=14)\n",
        "plt.title('Correlation Matrix', fontsize=16);"
      ]
    },
    {
      "cell_type": "code",
      "execution_count": null,
      "metadata": {
        "id": "fB0f43CYIhFJ"
      },
      "outputs": [],
      "source": [
        "#Correlation matrix with colorful indicators and corr. numbers\n",
        "corr = main_data.corr()\n",
        "corr.style.background_gradient(cmap='coolwarm')"
      ]
    },
    {
      "cell_type": "markdown",
      "metadata": {
        "id": "k_n9QLyYJAlt"
      },
      "source": [
        "# 3.2 Feature selection - Dataset preparation <br>\n",
        "Based on the results of Section 3.1, consider whether you want to filter out some features (feature selection) or whether you want to create derived features (feature transformation). <br>\n",
        "What is your final dataset to be used for classification? Please list and describe the selected features.<br>\n",
        "----------------------------------------------------------------------------<br>\n",
        "\n",
        "After completing the data preprocessing steps and checking the correlation matrix, we would like to continue with the same columns plus indicator column. This ind (test,train) column will be helpful when we want to divide a dataset to test and train parts. Since we applied the oversampling method, the new dimension of our dataset is (65719,16) in total (49438: train, 16281: test)."
      ]
    },
    {
      "cell_type": "code",
      "execution_count": null,
      "metadata": {
        "id": "YmcbVEabsuxz"
      },
      "outputs": [],
      "source": [
        "print('Dimension of dataset:',main_data.shape)\n",
        "print('General Info about dataset: \\n')\n",
        "main_data.info()"
      ]
    },
    {
      "cell_type": "code",
      "execution_count": null,
      "metadata": {
        "id": "8OrBsW3etSrj"
      },
      "outputs": [],
      "source": [
        "print(main_data.head(10))\n",
        "print(main_data.tail(10))"
      ]
    },
    {
      "cell_type": "markdown",
      "metadata": {
        "id": "L9nrE7vC8ddP"
      },
      "source": [
        "**K-nearest neighbors algorithm (k-NN)**\n",
        "\n",
        "k-nearest neighbors algorithm (k-NN) is a non-parametric classification method. In k-NN classification, the output is a class membership. An object is classified by a plurality vote of its neighbors, with the object being assigned to the class most common among its knearest neighbors (k is a positive integer, typically small)\n",
        "\n",
        "**Evaluation measures:**\n",
        "\n",
        "**Confusion matrix:**\n",
        "The confusion matrix is a way of tabulating the number of misclassifications\n",
        "\n",
        "**Accuracy:**\n",
        "Classification Accuracy is what we usually mean, when we use the term accuracy. It is the ratio of number of correct predictions to the total number of input samples.\n",
        "\n",
        "*Accuracy = TP+TN/TP+FP+FN+TN*\n",
        "\n",
        "**Precision:**\n",
        "Precision is the ratio of correctly predicted positive observations to the total predicted positive observations.\n",
        "\n",
        "*Precision = TP/TP+FP*\n",
        "\n",
        "**Recall (Sensitivity):**\n",
        "Recall is the ratio of correctly predicted positive observations to the all observations in actual class \n",
        "\n",
        "*Recall = TP/TP+FN*\n",
        "\n",
        "**F1 score:**\n",
        "F1 Score is the weighted average of Precision and Recall.\n",
        "\n",
        " F1 Score = 2*(Recall * Precision) / (Recall + Precision)  \n"
      ]
    },
    {
      "cell_type": "code",
      "execution_count": null,
      "metadata": {
        "id": "haMmyFSw1jY2"
      },
      "outputs": [],
      "source": [
        "import pandas as pd\n",
        "import numpy as np\n",
        "from sklearn.model_selection import train_test_split # Import train_test_split function\n",
        "from sklearn import metrics #Import scikit-learn metrics module for accuracy calculation\n",
        "from sklearn.preprocessing import LabelEncoder\n",
        "from sklearn.impute import SimpleImputer\n",
        "from sklearn.preprocessing import StandardScaler\n",
        "from sklearn.neighbors import KNeighborsClassifier\n",
        "from sklearn.metrics import classification_report, confusion_matrix\n",
        "from sklearn.model_selection import cross_val_score, GridSearchCV\n",
        "from sklearn.metrics import roc_curve\n",
        "from sklearn.metrics import auc\n",
        "import matplotlib.pyplot as plt\n",
        "from sklearn.metrics import roc_auc_score\n",
        "import time\n",
        "from sklearn.ensemble import AdaBoostClassifier\n",
        "from sklearn.tree import DecisionTreeClassifier\n",
        "from sklearn.svm import SVC\n",
        "from sklearn.naive_bayes import GaussianNB\n",
        "from sklearn.linear_model import Perceptron\n",
        "from sklearn.model_selection import StratifiedKFold\n",
        "from sklearn.model_selection import RandomizedSearchCV\n",
        "from mlxtend.plotting import plot_decision_regions\n",
        "#import datasets\n",
        "\n",
        "df_train = pd.read_csv('adult.data', header=None)\n",
        "df_test = pd.read_csv('adult.test', error_bad_lines=False)\n",
        "pd.set_option(\"display.max_columns\", None)\n",
        "my_file = open(\"adult.names\", \"r\")\n",
        "content = my_file.read()\n",
        "my_file_old = open(\"old.adult.names\", \"r\")\n",
        "content_old = my_file_old.read()\n",
        "names=[ 'age','workclass','fnlwgt','education','education-num','marital-status','occupation','relationship','race','sex','capital-gain','capital loss','hours-per-week','native-country','result']\n",
        "df2_train = pd.read_csv('adult.data', names = names)\n",
        "\n",
        "names=[ 'age','workclass','fnlwgt','education','education-num','marital-status','occupation','relationship','race','sex','capital-gain','capital loss','hours-per-week','native-country','result']\n",
        "df2_test = pd.read_csv('adult.test', names = names)\n",
        "\n",
        "main_data = pd.concat([df2_test.assign(ind=\"df2_test\"), df2_train.assign(ind=\"df2_train\")])\n",
        "test, train = main_data[main_data[\"ind\"].eq(\"df2_test\")], main_data[main_data[\"ind\"].eq(\"df2_train\")]\n",
        "\n",
        "X=train.iloc[:, :14]\n",
        "y=train.iloc[:, 14]\n",
        "\n",
        "#Assigning 0 for values <=50K and 1 for values >50K\n",
        "y = np.array([0 if l == \" <=50K\" else 1 for l in y])\n",
        "\n",
        "X_train, X_test, y_train, y_test = train_test_split(X, y, test_size=0.20)\n",
        "\n",
        "#To remove categorical and include only numerical values\n",
        "\n",
        "X_train_numerical = X_train.select_dtypes(include = np.number).copy()\n",
        "X_test_numerical = X_test.select_dtypes(include = np.number).copy()\n",
        "#Performing knn classification\n",
        "\n",
        "#KNN\n",
        "\n",
        "classifier1 = KNeighborsClassifier(metric= 'manhattan', n_neighbors= 19, p= 1, weights= 'uniform')\n",
        "classifier1.fit(X_train_numerical, y_train)\n",
        "y_pred1 = classifier1.predict(X_test_numerical)\n",
        "\n",
        "print('KNN')\n",
        "print('-----Confusion Matrix-----')\n",
        "print(confusion_matrix(y_test, y_pred1))\n",
        "print('\\n')\n",
        "print('-----Classification Report-----')\n",
        "print(classification_report(y_test, y_pred1))\n",
        "print('\\n')\n",
        "\n",
        "#cross validation\n",
        "print('-----Cross Validation-----')\n",
        "kfold = StratifiedKFold(n_splits=5, shuffle=True, random_state=123)\n",
        "cv_score = cross_val_score(classifier1, X_train_numerical, y_train,scoring = 'accuracy',cv = kfold)\n",
        "print(cv_score)\n",
        "print('\\n')\n",
        "#AUC plot and ROC curve\n",
        "print('-----AUC Plot and ROC Curve-----')\n",
        "metrics.plot_roc_curve(classifier1, X_test_numerical, y_test) \n",
        "plt.show()\n",
        "print('\\n')\n",
        "\n",
        "#plotting the decision boundary\n",
        "X = np.asarray(X_train_numerical)\n",
        "value = 1.5\n",
        "width = 0.5\n",
        "print('-----Decision boundary for KNN-----')\n",
        "plot_decision_regions(X, y_train, clf=classifier1, legend=2, \n",
        "              feature_index=[0,2],                                 #these one will be plotted  \n",
        "              filler_feature_values={1: value, 3:value, 4:value},  #these will be ignored\n",
        "              filler_feature_ranges={1: width, 3: width, 4:width})\n",
        "plt.show()\n",
        "\n",
        "#Use the validation set to find the best parameters for each classifier\n",
        "#GridSearchCV is used for finding the best parameters\n",
        "\n",
        "grid_params = {\n",
        "    'n_neighbors': [3,5,7,9,11,13,15,17,19,21,23],\n",
        "    'p': (1,2),\n",
        "    'weights':['uniform', 'distance'],\n",
        "    'metric':['euclidean','manhattan', 'minkowski']\n",
        "}\n",
        "g = GridSearchCV(KNeighborsClassifier(algorithm='auto'), \n",
        "    grid_params,\n",
        "    verbose=1,\n",
        "    cv=3,\n",
        "    n_jobs=-1\n",
        ")\n",
        "print('-----Best Parameters-----')\n",
        "g_results = g.fit(X_train_numerical, y_train)\n",
        "print(\"Best Score: \" , g_results.best_score_)\n",
        "print(\"Best Estimator: \" , g_results.best_estimator_)\n",
        "print(\"Best Params: \" , g_results.best_params_)\n",
        "\n"
      ]
    },
    {
      "cell_type": "markdown",
      "metadata": {
        "id": "zsx6tWNI289q"
      },
      "source": [
        "**Decision tree:**\n",
        "\n",
        "Decision Trees (DTs) are a non-parametric supervised learning method used for classification and regression. The goal is to create a model that predicts the value of a target variable by learning simple decision rules inferred from the data features"
      ]
    },
    {
      "cell_type": "code",
      "execution_count": null,
      "metadata": {
        "id": "gs2gtp0q29q2"
      },
      "outputs": [],
      "source": [
        "print('Decision Tree')\n",
        "import pandas as pd\n",
        "import numpy as np\n",
        "from sklearn.model_selection import train_test_split # Import train_test_split function\n",
        "from sklearn import metrics #Import scikit-learn metrics module for accuracy calculation\n",
        "from sklearn.preprocessing import LabelEncoder\n",
        "from sklearn.impute import SimpleImputer\n",
        "from sklearn.preprocessing import StandardScaler\n",
        "from sklearn.neighbors import KNeighborsClassifier\n",
        "from sklearn.metrics import classification_report, confusion_matrix\n",
        "from sklearn.model_selection import cross_val_score, GridSearchCV\n",
        "from sklearn.metrics import roc_curve\n",
        "from sklearn.metrics import auc\n",
        "import matplotlib.pyplot as plt\n",
        "from sklearn.metrics import roc_auc_score\n",
        "import time\n",
        "from sklearn.ensemble import AdaBoostClassifier\n",
        "from sklearn.tree import DecisionTreeClassifier\n",
        "from sklearn.svm import SVC\n",
        "from sklearn.naive_bayes import GaussianNB\n",
        "from sklearn.linear_model import Perceptron\n",
        "from sklearn.model_selection import StratifiedKFold\n",
        "from sklearn.model_selection import RandomizedSearchCV\n",
        "from mlxtend.plotting import plot_decision_regions\n",
        "#import datasets\n",
        "\n",
        "df_train = pd.read_csv('adult.data', header=None)\n",
        "df_test = pd.read_csv('adult.test', error_bad_lines=False)\n",
        "pd.set_option(\"display.max_columns\", None)\n",
        "my_file = open(\"adult.names\", \"r\")\n",
        "content = my_file.read()\n",
        "my_file_old = open(\"old.adult.names\", \"r\")\n",
        "content_old = my_file_old.read()\n",
        "names=[ 'age','workclass','fnlwgt','education','education-num','marital-status','occupation','relationship','race','sex','capital-gain','capital loss','hours-per-week','native-country','result']\n",
        "df2_train = pd.read_csv('adult.data', names = names)\n",
        "\n",
        "names=[ 'age','workclass','fnlwgt','education','education-num','marital-status','occupation','relationship','race','sex','capital-gain','capital loss','hours-per-week','native-country','result']\n",
        "df2_test = pd.read_csv('adult.test', names = names)\n",
        "\n",
        "main_data = pd.concat([df2_test.assign(ind=\"df2_test\"), df2_train.assign(ind=\"df2_train\")])\n",
        "test, train = main_data[main_data[\"ind\"].eq(\"df2_test\")], main_data[main_data[\"ind\"].eq(\"df2_train\")]\n",
        "\n",
        "X=train.iloc[:, :14]\n",
        "y=train.iloc[:, 14]\n",
        "\n",
        "#Assigning 0 for values <=50K and 1 for values >50K\n",
        "y = np.array([0 if l == \" <=50K\" else 1 for l in y])\n",
        "\n",
        "X_train, X_test, y_train, y_test = train_test_split(X, y, test_size=0.20)\n",
        "\n",
        "#To remove categorical and include only numerical values\n",
        "\n",
        "X_train_numerical = X_train.select_dtypes(include = np.number).copy()\n",
        "X_test_numerical = X_test.select_dtypes(include = np.number).copy()\n",
        "classifier2 = DecisionTreeClassifier()\n",
        "classifier2.fit(X_train_numerical, y_train)\n",
        "\n",
        "y_pred2 = classifier2.predict(X_test_numerical)\n",
        "\n",
        "print('-----Confusion Matrix-----')\n",
        "print(confusion_matrix(y_test, y_pred2))\n",
        "print('\\n')\n",
        "print('-----Classification Report-----')\n",
        "print(classification_report(y_test, y_pred2))\n",
        "print('\\n')\n",
        "\n",
        "\n",
        "#cross validation\n",
        "print('-----Cross Validation for Decision Tree-----')\n",
        "print('\\n')\n",
        "kfold = StratifiedKFold(n_splits=5, shuffle=True, random_state=123)\n",
        "cv_score = cross_val_score(classifier2, X_train_numerical, y_train,scoring = 'accuracy',cv = kfold)\n",
        "print(cv_score)\n",
        "print('\\n')\n",
        "\n",
        "#AUC plot and ROC curve\n",
        "print('-----AUC Plot and ROC Curve-----')\n",
        "metrics.plot_roc_curve(classifier2, X_test_numerical, y_test) \n",
        "plt.show()\n",
        "print('\\n')\n",
        "\n",
        "#plotting the decision boundary\n",
        "X = np.asarray(X_train_numerical)\n",
        "value = 1.5\n",
        "width = 0.5\n",
        "plot_decision_regions(X, y_train, clf=classifier2, legend=2, \n",
        "              feature_index=[0,2],                                 #these one will be plotted  \n",
        "              filler_feature_values={1: value, 3:value, 4:value},  #these will be ignored\n",
        "              filler_feature_ranges={1: width, 3: width, 4:width})\n",
        "plt.show()\n",
        "\n",
        "#Use the validation set to find the best parameters for each classifier\n",
        "#GridSearchCV is used for finding the best parameters\n",
        "\n",
        "param_dict = {\n",
        "    \"criterion\":[\"gini\",\"entropy\"],\n",
        "    \"max_depth\":range(1,15),\n",
        "    \"min_samples_split\":range(1,10),\n",
        "    \"min_samples_leaf\":range(1,5)\n",
        "}\n",
        "\n",
        "print('-----Best Parameters-----')\n",
        "grid = GridSearchCV(classifier2, param_grid=param_dict, cv=5, verbose=1, n_jobs=-1)\n",
        "time0 = time.time()\n",
        "grid.fit(X_train_numerical, y_train)\n",
        "time1 = time.time()\n",
        "train_time = time1 - time0\n",
        "print(\"DT Training Time: \", train_time)\n",
        "dt_params = grid.best_params_\n",
        "print(\"Best DT parameters by GridSearch: \", dt_params)\n",
        "# prediction/inference time\n",
        "t0 = time.time()\n",
        "dt_pred_y = grid.predict(X_test_numerical)\n",
        "t1 = time.time()\n",
        "testing_time = t1 - t0\n",
        "print(\"Testing time in seconds: \", testing_time)"
      ]
    },
    {
      "cell_type": "markdown",
      "metadata": {
        "id": "Lx-YZ0W73nLO"
      },
      "source": [
        "**Naive Bayes:**\n",
        "\n",
        "Naive Bayes methods are a set of supervised learning algorithms based on applying Bayes’ theorem with the “naive” assumption of conditional independence between every pair of features given the value of the class variable"
      ]
    },
    {
      "cell_type": "code",
      "execution_count": null,
      "metadata": {
        "id": "VygiiO4R3ndE"
      },
      "outputs": [],
      "source": [
        "print('Naive Bayes')\n",
        "\n",
        "classifier3 = GaussianNB()\n",
        "classifier3.fit(X_train_numerical, y_train)\n",
        "\n",
        "y_pred3 = classifier3.predict(X_test_numerical)\n",
        "\n",
        "\n",
        "print('-----Confusion Matrix-----')\n",
        "print(confusion_matrix(y_test, y_pred3))\n",
        "print('\\n')\n",
        "print('-----Classification Report-----')\n",
        "print(classification_report(y_test, y_pred3))\n",
        "print('\\n')\n",
        "\n",
        "\n",
        "#cross validation\n",
        "print('-----Cross Validation-----')\n",
        "kfold = StratifiedKFold(n_splits=5, shuffle=True, random_state=123)\n",
        "cv_score = cross_val_score(classifier3, X_train_numerical, y_train,scoring = 'accuracy',cv = kfold)\n",
        "print(cv_score)\n",
        "print('\\n')\n",
        "\n",
        "#AUC plot and ROC curve\n",
        "print('-----AUC Plot and ROC Curve-----')\n",
        "metrics.plot_roc_curve(classifier3, X_test_numerical, y_test) \n",
        "plt.show()\n",
        "print('\\n')\n",
        "\n",
        "#plotting the decision boundary\n",
        "X = np.asarray(X_train_numerical)\n",
        "value = 1.5\n",
        "width = 0.5\n",
        "plot_decision_regions(X, y_train, clf=classifier3, legend=2, \n",
        "              feature_index=[0,2],                                 #these one will be plotted  \n",
        "              filler_feature_values={1: value, 3:value, 4:value},  #these will be ignored\n",
        "              filler_feature_ranges={1: width, 3: width, 4:width})\n",
        "plt.show()\n",
        "\n",
        "#Use the validation set to find the best parameters for each classifier\n",
        "#GridSearchCV is used for finding the best parameters\n",
        "\n",
        "print('-----Best Parameters-----')\n",
        "params_NB = {'var_smoothing': np.logspace(0,-9, num=100)}\n",
        "gs_NB = GridSearchCV(classifier3, \n",
        "                 param_grid=params_NB, \n",
        "                 cv=5,   # use any cross validation technique \n",
        "                 verbose=1, \n",
        "                 scoring='accuracy') \n",
        "gs_NB.fit(X_train_numerical, y_train)\n",
        "\n",
        "print(gs_NB.best_params_)"
      ]
    },
    {
      "cell_type": "markdown",
      "metadata": {
        "id": "MJuBn3Mw4J4e"
      },
      "source": [
        "**Support vector machines:**\n",
        "\n",
        "Support vector machines (SVMs) are a set of supervised learning methods Perceptron. Given a set of training examples, each marked as belonging to one of two categories, an SVM training algorithm builds a model that assigns new examples to one category or the other, making it a non-probabilistic binary linear classifier"
      ]
    },
    {
      "cell_type": "code",
      "source": [
        "import pandas as pd\n",
        "import numpy as np\n",
        "from sklearn.model_selection import train_test_split # Import train_test_split function\n",
        "from sklearn import metrics #Import scikit-learn metrics module for accuracy calculation\n",
        "from sklearn.preprocessing import LabelEncoder\n",
        "from sklearn.impute import SimpleImputer\n",
        "from sklearn.preprocessing import StandardScaler\n",
        "from sklearn.neighbors import KNeighborsClassifier\n",
        "from sklearn.metrics import classification_report, confusion_matrix\n",
        "from sklearn.model_selection import cross_val_score, GridSearchCV\n",
        "from sklearn.metrics import roc_curve\n",
        "from sklearn.metrics import auc\n",
        "import matplotlib.pyplot as plt\n",
        "from sklearn.metrics import roc_auc_score\n",
        "import time\n",
        "from sklearn.ensemble import AdaBoostClassifier\n",
        "from sklearn.tree import DecisionTreeClassifier\n",
        "from sklearn.svm import SVC\n",
        "from sklearn.naive_bayes import GaussianNB\n",
        "from sklearn.linear_model import Perceptron\n",
        "from sklearn.model_selection import StratifiedKFold\n",
        "from sklearn.model_selection import RandomizedSearchCV\n",
        "from mlxtend.plotting import plot_decision_regions\n",
        "#import datasets\n",
        "\n",
        "df_train = pd.read_csv('adult.data', header=None) \n",
        "df_test = pd.read_csv('adult.test', error_bad_lines=False)\n",
        "pd.set_option(\"display.max_columns\", None)\n",
        "my_file = open(\"adult.names\", \"r\")\n",
        "content = my_file.read()\n",
        "my_file_old = open(\"old.adult.names\", \"r\")\n",
        "content_old = my_file_old.read()\n",
        "names=[ 'age','workclass','fnlwgt','education','education-num','marital-status','occupation','relationship','race','sex','capital-gain','capital loss','hours-per-week','native-country','result']\n",
        "df2_train = pd.read_csv('adult.data', names = names)\n",
        "\n",
        "names=[ 'age','workclass','fnlwgt','education','education-num','marital-status','occupation','relationship','race','sex','capital-gain','capital loss','hours-per-week','native-country','result']\n",
        "df2_test = pd.read_csv('adult.test', names = names)\n",
        "\n",
        "main_data = pd.concat([df2_test.assign(ind=\"df2_test\"), df2_train.assign(ind=\"df2_train\")])\n",
        "test, train = main_data[main_data[\"ind\"].eq(\"df2_test\")], main_data[main_data[\"ind\"].eq(\"df2_train\")]\n",
        "\n",
        "X=train.iloc[:, :14]\n",
        "y=train.iloc[:, 14]\n",
        "\n",
        "#Assigning 0 for values <=50K and 1 for values >50K\n",
        "y = np.array([0 if l == \" <=50K\" else 1 for l in y])\n",
        "\n",
        "X_train, X_test, y_train, y_test = train_test_split(X, y, test_size=0.20)\n",
        "\n",
        "#To remove categorical and include only numerical values\n",
        "\n",
        "X_train_numerical = X_train.select_dtypes(include = np.number).copy()\n",
        "X_test_numerical = X_test.select_dtypes(include = np.number).copy()\n",
        "print('SVM')\n",
        "classifier4 = SVC(kernel='rbf', random_state = 1)\n",
        "classifier4.fit(X_train_numerical, y_train)\n",
        "\n",
        "y_pred4 = classifier4.predict(X_test_numerical)\n",
        "\n",
        "print('-----Confusion Matrix-----')\n",
        "print(confusion_matrix(y_test, y_pred4))\n",
        "print('\\n')\n",
        "print('-----Classification Report-----')\n",
        "print(classification_report(y_test, y_pred4))\n",
        "print('\\n')\n",
        "\n",
        "#cross validation\n",
        "print('-----Cross Validation for SVM-----') \n",
        "print('\\n')\n",
        "kfold = StratifiedKFold(n_splits=5, shuffle=True, random_state=123)\n",
        "cv_score = cross_val_score(classifier4, X_train_numerical, y_train,scoring = 'accuracy',cv = kfold)\n",
        "print(cv_score)\n",
        "print('\\n')\n",
        "\n",
        "#AUC plot and ROC curve\n",
        "print('-----AUC Plot and ROC Curve-----')\n",
        "metrics.plot_roc_curve(classifier4, X_test_numerical, y_test) \n",
        "plt.show()\n",
        "print('\\n')\n",
        "\n",
        "#plotting the decision boundary\n",
        "X = np.asarray(X_train_numerical)\n",
        "value = 1.5\n",
        "width = 0.5\n",
        "plot_decision_regions(X, y_train, clf=classifier4, legend=2, \n",
        "              feature_index=[0,2],                                 #these one will be plotted  \n",
        "              filler_feature_values={1: value, 3:value, 4:value},  #these will be ignored\n",
        "              filler_feature_ranges={1: width, 3: width, 4:width})\n",
        "plt.show()\n",
        "\n",
        "#Use the validation set to find the best parameters for each classifier\n",
        "#GridSearchCV is used for finding the best parameters\n",
        "\n",
        "print('-----Best Parameters-----')\n",
        "param_dict = {'C': [0.1,1, 10, 100], 'gamma': [1,0.1,0.01,0.001],'kernel': ['rbf', 'poly', 'sigmoid']}\n",
        "grid = GridSearchCV(SVC(),param_dict,refit=True,verbose=2)\n",
        "grid.fit(X_train_numerical,y_train)\n",
        "print(grid.best_estimator_)"
      ],
      "metadata": {
        "id": "d4tlghynzW0K"
      },
      "execution_count": null,
      "outputs": []
    },
    {
      "cell_type": "markdown",
      "metadata": {
        "id": "5d__bF8B4b4A"
      },
      "source": [
        "**Perceptron:**\n",
        "\n",
        "A perceptron is a single-layer neural network. They consist of four main parts including input values, weights and bias, net sum, and an activation function\n"
      ]
    },
    {
      "cell_type": "code",
      "execution_count": null,
      "metadata": {
        "id": "w7JYohZs4cQk"
      },
      "outputs": [],
      "source": [
        "from sklearn.linear_model import Perceptron\n",
        "print('Perceptron')\n",
        "classifier5 = Perceptron(tol=1e-3, random_state=0)\n",
        "classifier5.fit(X_train_numerical, y_train)\n",
        "\n",
        "y_pred = classifier5.predict(X_test_numerical)\n",
        "\n",
        "print('-----Confusion Matrix-----')\n",
        "print(confusion_matrix(y_test, y_pred))\n",
        "print('\\n')\n",
        "\n",
        "print('-----Classification Report-----')\n",
        "print(classification_report(y_test, y_pred))\n",
        "print('\\n')\n",
        "\n",
        "#cross validation\n",
        "\n",
        "print('-----Cross Validation-----')\n",
        "kfold = StratifiedKFold(n_splits=5, shuffle=True, random_state=123)\n",
        "cv_score = cross_val_score(classifier5, X_train_numerical, y_train,scoring = 'accuracy',cv = kfold)\n",
        "print(cv_score)\n",
        "print('\\n')\n",
        "\n",
        "#AUC plot and ROC curve\n",
        "\n",
        "print('-----AUC Plot and ROC Curve-----')\n",
        "metrics.plot_roc_curve(classifier5, X_test_numerical, y_test) \n",
        "plt.show()\n",
        "print('\\n')\n",
        "\n",
        "#plotting the decision boundary\n",
        "X = np.asarray(X_train_numerical)\n",
        "value = 1.5\n",
        "width = 0.5\n",
        "plot_decision_regions(X, y_train, clf=classifier5, legend=2, \n",
        "              feature_index=[0,2],                                 #these one will be plotted  \n",
        "              filler_feature_values={1: value, 3:value, 4:value},  #these will be ignored\n",
        "              filler_feature_ranges={1: width, 3: width, 4:width})\n",
        "plt.show()"
      ]
    },
    {
      "cell_type": "markdown",
      "metadata": {
        "id": "ZE79R-qaAXIo"
      },
      "source": [
        "3.4\n",
        "\n",
        "**EFFECT OF MODEL PARAMETERS:**\n",
        "\n",
        "**KNN**\n",
        "\n",
        "Best Parameters:  {'metric': 'manhattan', 'n_neighbors': 17, 'p': 1, 'weights': 'uniform'}\n",
        "\n",
        "\n",
        "\n",
        "**Decision tree:**\n",
        "\n",
        "Best Parameters: {'criterion': 'gini', 'max_depth': 7, 'min_samples_leaf': 3, 'min_samples_split': 2}\n",
        "\n",
        "**Naive Bayes:**\n",
        "\n",
        "Best Parameters: {'var_smoothing': 1.2328467394420658e-05}\n",
        "\n",
        "**SVM:**\n",
        "\n",
        "Best Parameters: {C=0.1, gamma=1, kernel=rbf; total time= 1.1min}\n"
      ]
    },
    {
      "cell_type": "markdown",
      "source": [
        ""
      ],
      "metadata": {
        "id": "7Sg4pQjA6PrW"
      }
    },
    {
      "cell_type": "markdown",
      "metadata": {
        "id": "d2c81b13"
      },
      "source": [
        "# 3-5. Fairness-awareness learning setup \n",
        "\n",
        "\n",
        "Input: D = training dataset\n",
        "\n",
        "F: set of non-protected attributes. \n",
        "\n",
        "S: protected attribute (single or binary)\n",
        "\n",
        "y: class attribute{+,-}\n",
        "\n",
        "\n",
        "Given your final trained model,\n",
        "\n",
        "observe whether its predictions for different genders, namely ‘male’ and ‘female’ vary\n",
        "\n",
        "    1. Statistical parity Difference \n",
        "\n",
        "    2. Equal Opportunity\n",
        "\n",
        "    3. Disparate Measurement\n",
        "    \n",
        "Also, compare the above measurements with the evaluation results from the classifiers with numerical values.\n",
        " \n",
        "    1. KNN\n",
        "    2. Decision Tree\n",
        "    3. Naive-Bayes\n",
        "    4. SVM\n",
        "    5. Perceptron"
      ]
    },
    {
      "cell_type": "markdown",
      "source": [
        "Dataset:  X_test_numerical, X_test[‘sex’], y_test, y_pred\n",
        " \n",
        "Data = x { X_test_numerical, X_test[‘sex] }\n",
        " \n",
        "Protected attribute = s { ‘ Female’, ‘ Male’ }\n",
        " \n",
        "Predicted outcome = y_hat {0, 1}\n",
        " \n",
        "Real class value = y {0, 1}"
      ],
      "metadata": {
        "id": "k1bV6TZeXjw4"
      }
    },
    {
      "cell_type": "code",
      "execution_count": null,
      "metadata": {
        "id": "572c2615"
      },
      "outputs": [],
      "source": [
        "# 3-5. Discriptive behaviors\n",
        "\n",
        "# To calculate the conditinoal probability, \n",
        "# Merge 'X_test_numerical' and 'sex' column from 'X_test' (no changes in number of rows)  \n",
        "\n",
        "new_X = pd.merge(X_test_numerical, X_test['sex'], left_index=True, right_index=True)"
      ]
    },
    {
      "cell_type": "code",
      "execution_count": null,
      "metadata": {
        "id": "a78877d7"
      },
      "outputs": [],
      "source": [
        "new_X"
      ]
    },
    {
      "cell_type": "code",
      "execution_count": null,
      "metadata": {
        "id": "fb612048"
      },
      "outputs": [],
      "source": [
        "# Prepare the classified results for measuring fairness."
      ]
    },
    {
      "cell_type": "code",
      "execution_count": null,
      "metadata": {
        "id": "c648589e"
      },
      "outputs": [],
      "source": [
        "# KNN\n",
        "\n",
        "# Prepare the y_pred1 column with code from previous parts\n",
        "classifier1 = KNeighborsClassifier(metric= 'manhattan', n_neighbors= 19, p= 1, weights= 'uniform')\n",
        "classifier1.fit(X_train_numerical, y_train)\n",
        "y_pred1 = classifier1.predict(X_test_numerical)\n",
        "\n",
        "df_y_pred1 = pd.DataFrame(y_pred1)\n",
        "df_y_pred1.index = list(new_X.index)\n",
        "df_y_pred1.columns = ['y_pred1']\n",
        "\n",
        "# y_test column\n",
        "\n",
        "df_y_test = pd.DataFrame(y_test)\n",
        "df_y_test.index = list(new_X.index)\n",
        "df_y_test.columns = ['y_test']\n",
        "\n",
        "# merge y_pred1, y_test, new_X dataframes\n",
        "knn_result1 = pd.concat([new_X, df_y_pred1], axis = 1)\n",
        "knn_result = pd.concat([knn_result1, df_y_test], axis = 1)"
      ]
    },
    {
      "cell_type": "code",
      "execution_count": null,
      "metadata": {
        "id": "6127bb9c"
      },
      "outputs": [],
      "source": [
        "knn_result"
      ]
    },
    {
      "cell_type": "code",
      "execution_count": null,
      "metadata": {
        "id": "2c92fdc5"
      },
      "outputs": [],
      "source": [
        "# Decision Trees\n",
        "\n",
        "#Prepare the y_pred2 column with code from previous parts.\n",
        "classifier2 = DecisionTreeClassifier()\n",
        "classifier2.fit(X_train_numerical, y_train)\n",
        "y_pred2 = classifier2.predict(X_test_numerical)\n",
        "\n",
        "df_y_pred2 = pd.DataFrame(y_pred2)\n",
        "df_y_pred2.index = list(new_X.index)\n",
        "df_y_pred2.columns = ['y_pred2']\n",
        "\n",
        "\n",
        "# y_test column \n",
        "df_y_test\n",
        "\n",
        "\n",
        "# merge y_pred2, y_test, new_X dataframes\n",
        "dt_result1 = pd.concat([new_X, df_y_pred2], axis = 1)\n",
        "dt_result = pd.concat([dt_result1, df_y_test], axis = 1)"
      ]
    },
    {
      "cell_type": "code",
      "execution_count": null,
      "metadata": {
        "id": "9413aaa2"
      },
      "outputs": [],
      "source": [
        "dt_result"
      ]
    },
    {
      "cell_type": "code",
      "execution_count": null,
      "metadata": {
        "id": "8daecf55"
      },
      "outputs": [],
      "source": [
        "# Naive-Bayes \n",
        "\n",
        "# Prepare the y_pred3 column with code from previous parts.\n",
        "classifier3 = GaussianNB()\n",
        "classifier3.fit(X_train_numerical, y_train)\n",
        "y_pred3 = classifier3.predict(X_test_numerical)\n",
        "\n",
        "df_y_pred3 = pd.DataFrame(y_pred3)\n",
        "df_y_pred3.index = list(new_X.index)\n",
        "df_y_pred3.columns = ['y_pred3']\n",
        "\n",
        "# y_test column\n",
        "df_y_test\n",
        "\n",
        "# merge y_pred3, y_test, new_X dataframes\n",
        "nb_result1 = pd.concat([new_X, df_y_pred3], axis = 1)\n",
        "nb_result = pd.concat([nb_result1, df_y_test], axis = 1)"
      ]
    },
    {
      "cell_type": "code",
      "execution_count": null,
      "metadata": {
        "id": "9c78b965"
      },
      "outputs": [],
      "source": [
        "nb_result"
      ]
    },
    {
      "cell_type": "code",
      "execution_count": null,
      "metadata": {
        "id": "a9e6c04b"
      },
      "outputs": [],
      "source": [
        "# SVM \n",
        "\n",
        "# Prepare the y_pred4 column with code from previous parts. \n",
        "classifier4 = SVC(kernel='rbf', random_state = 1)\n",
        "classifier4.fit(X_train_numerical, y_train)\n",
        "y_pred4 = classifier4.predict(X_test_numerical)\n",
        "\n",
        "df_y_pred4 = pd.DataFrame(y_pred4)\n",
        "df_y_pred4.index = list(new_X.index)\n",
        "df_y_pred4.columns = ['y_pred4']\n",
        "\n",
        "# y_test column \n",
        "df_y_test\n",
        "\n",
        "# merge y_pred4, y_test, new_X dataframes \n",
        "svm_result1 = pd.concat([new_X, df_y_pred4], axis = 1)\n",
        "svm_result = pd.concat([svm_result1, df_y_test], axis = 1)"
      ]
    },
    {
      "cell_type": "code",
      "execution_count": null,
      "metadata": {
        "id": "dcde4d44"
      },
      "outputs": [],
      "source": [
        "svm_result"
      ]
    },
    {
      "cell_type": "code",
      "execution_count": null,
      "metadata": {
        "id": "fbe9cee8"
      },
      "outputs": [],
      "source": [
        "# Perceptron \n",
        "\n",
        "classifier5 = Perceptron(tol=1e-3, random_state=0)\n",
        "classifier5.fit(X_train_numerical, y_train)\n",
        "y_pred5 = classifier5.predict(X_test_numerical)\n",
        "\n",
        "df_y_pred5 = pd.DataFrame(y_pred5)\n",
        "df_y_pred5.index = list(new_X.index)\n",
        "df_y_pred5.columns = ['y_pred5']\n",
        "\n",
        "# y_test column \n",
        "df_y_test\n",
        "\n",
        "# merge y_pred5, y_test, new_X dataframes \n",
        "perceptron_result1 = pd.concat([new_X, df_y_pred5], axis = 1)\n",
        "perceptron_result = pd.concat([perceptron_result1, df_y_test], axis = 1)"
      ]
    },
    {
      "cell_type": "code",
      "execution_count": null,
      "metadata": {
        "id": "aca2d43a"
      },
      "outputs": [],
      "source": [
        "perceptron_result"
      ]
    },
    {
      "cell_type": "markdown",
      "source": [
        "## Statistical Parity Difference (SPD)\n",
        " \n",
        "This evaluates that a predictor is unbiased if the prediction y_hat is independent of the protected attribute S so that \n",
        "\n",
        " \n",
        "**P(y_hat| S ) == P(y_hat)** \n",
        "\n",
        "\n",
        "This can be measured by checking the difference between the probability of prediction of y conditioned by whether s = ‘ Male’ or s = ‘ Female’. And the equation for measurement is,\n",
        "\n",
        "\n",
        "**SPD = P( y_hat = 1 | S = ‘ Male’ ) – P( y_hat = 1 | S = ‘ Female’ )**\n",
        "\n",
        "\n",
        "If subjects in both protected and unprotected groups should have equal probability of being assigned to the positive class. \n"
      ],
      "metadata": {
        "id": "QyX8MgrGX2Bn"
      }
    },
    {
      "cell_type": "code",
      "source": [
        "# Functions for Measurement"
      ],
      "metadata": {
        "id": "Ki95o-OnXzMZ"
      },
      "execution_count": null,
      "outputs": []
    },
    {
      "cell_type": "code",
      "execution_count": null,
      "metadata": {
        "id": "3b0486db"
      },
      "outputs": [],
      "source": [
        "# 1. Statistical Parity Difference\n",
        "\n",
        "# SPD = P(y_hat = + | S = not s) - P(y_hat = + | S = s)\n",
        "# y_hat will be described as variables: y_pred_pos_l (left hand side), y_pred_pos_r (right hand side)\n",
        "\n",
        "# class_y : > 50k == 1, <= 50k == 0\n",
        "\n",
        "# Beforehand, check if there's more than two unique values in the column 'sex' -> NO\n",
        "# knn_result['sex'].unique()\n",
        "\n",
        "def statParityDif(dataset, protect_att, class_att):\n",
        "    \n",
        "    #Conditional on 'sex'\n",
        "    malerows = dataset.loc[dataset[protect_att] == \" Male\"]\n",
        "    malerows_pos = malerows.loc[dataset[class_att] == 1]\n",
        "    y_pred_l = len(malerows_pos)\n",
        "    \n",
        "    femalerows = dataset.loc[dataset[protect_att] == \" Female\"]\n",
        "    femalerows_pos = femalerows.loc[dataset[class_att] == 1]\n",
        "    y_pred_r = len(femalerows_pos)\n",
        "        \n",
        "    lhs = y_pred_l/len(dataset)\n",
        "    rhs = y_pred_r/len(dataset)\n",
        "    \n",
        "    return lhs-rhs"
      ]
    },
    {
      "cell_type": "markdown",
      "source": [
        "## **Equal Opportunity (EOD)**\n",
        " \n",
        "It checks whether the true positive rate and false positive rate will be the same for each s value. If it is the case, there should be no difference in model’s prediction errors regarding the positive class and the measure should give the value zero. \n",
        " \n",
        "EOD = P( y_hat = 1 | y = 1, S = ‘ Male’ ) – P( y_hat = 1 | y = 1, S = ‘ Female’ )\n",
        " \n"
      ],
      "metadata": {
        "id": "rmyOhV-uYgLP"
      }
    },
    {
      "cell_type": "code",
      "execution_count": null,
      "metadata": {
        "id": "ff09bf12"
      },
      "outputs": [],
      "source": [
        "# 2. Equal Opportunity \n",
        "\n",
        "# Equal opportunity difference \n",
        "# EOD: P(y_hat != y | S = not s+) - P(y_hat != y | S = s +)\n",
        "# With the same variable representation as Statistical Parity, \n",
        "\n",
        "def EqualOppDif(dataset, protect_att, class_att, y):\n",
        "    \n",
        "    #Conditional on 'sex'\n",
        "    male_over50 = dataset.loc[(dataset[protect_att] == \" Male\") & (dataset[y] == 1)]\n",
        "    y_pred_l = len(male_over50.loc[dataset[class_att] == 0])\n",
        "    female_over50 = dataset.loc[(dataset[protect_att] == \" Female\") & (dataset[y] == 1)]\n",
        "    y_pred_r = len(female_over50.loc[dataset[class_att] == 0])\n",
        "    \n",
        "    lhs = y_pred_l/len(male_over50)\n",
        "    rhs = y_pred_r/len(female_over50)\n",
        "    \n",
        "    return lhs-rhs"
      ]
    },
    {
      "cell_type": "markdown",
      "source": [
        "## **Disparate Mistreatment**\n",
        " \n",
        " \n",
        "With false negative rates (FNR) and false positive rates (FPR), we can check if there are difference in model’s prediction errors between protected and non-protected groups for both classes {0, 1}, and the equation is as follows. \n",
        " \n",
        " \n",
        "**d_FNR = P( y_hat != y | y = 1, S = ‘ Female’ ) - P( y_hat != y | y = 1, S = ‘ Male’ )**\n",
        "\n",
        "**d_FPR = P( y_hat != y | y = 0, S = ‘ Female’ ) – P( y_hat != y | y = 0, S = ‘ Male’ )**\n",
        " \n",
        "**Disparate Mistreatment = abs(d_FNR) + abs(d_FPR)**\n"
      ],
      "metadata": {
        "id": "qIfgfDAoYz1a"
      }
    },
    {
      "cell_type": "code",
      "execution_count": null,
      "metadata": {
        "id": "e57fe380"
      },
      "outputs": [],
      "source": [
        "# 3. Disparate Mistreatment\n",
        "\n",
        "# Disparate Mistreatment = ab(delta FNR) + ab(delta FPR)\n",
        "# delta FNR = EOD\n",
        "# delta FPR = P(y_hat != y | S = s -) - P(y_hat != y | S = not s -)\n",
        "\n",
        "\n",
        "\n",
        "def DisparateMistreat(dataset, protect_att, class_att, y):\n",
        "    \n",
        "    # FNR\n",
        "    female_over50 = dataset.loc[(dataset[protect_att] == \" Female\") & (dataset[y] == 1)]\n",
        "    fnr_y_pred_l = len(female_over50.loc[dataset[class_att] == 0])\n",
        "    male_over50 = dataset.loc[(dataset[protect_att] == \" Male\") & (dataset[y] == 1)]\n",
        "    fnr_y_pred_r = len(male_over50.loc[dataset[class_att] == 0])\n",
        "    \n",
        "    fnr_lhs = fnr_y_pred_l/len(female_over50)\n",
        "    fnr_rhs = fnr_y_pred_r/len(male_over50)\n",
        "    \n",
        "    # FPR\n",
        "    female_under50 = dataset.loc[(dataset[protect_att] == \" Female\") & (dataset[y] == 0)]\n",
        "    fpr_y_pred_l = len(female_under50.loc[dataset[class_att] == 1])\n",
        "    male_under50 = dataset.loc[(dataset[protect_att] == \" Male\") & (dataset[y] == 0)]\n",
        "    fpr_y_pred_r = len(male_under50.loc[dataset[class_att] == 1])\n",
        "    \n",
        "    fpr_lhs = fpr_y_pred_l/len(female_under50)\n",
        "    fpr_rhs = fpr_y_pred_r/len(male_under50)\n",
        "    \n",
        "    return abs(fnr_lhs - fnr_rhs) + abs(fpr_lhs - fpr_rhs)\n"
      ]
    },
    {
      "cell_type": "code",
      "execution_count": null,
      "metadata": {
        "id": "2f10597f"
      },
      "outputs": [],
      "source": [
        "# Measurement of 3 fairness measurements on each classifier. "
      ]
    },
    {
      "cell_type": "code",
      "execution_count": null,
      "metadata": {
        "id": "c42f9c24"
      },
      "outputs": [],
      "source": [
        "# <1> KNN classifier\n",
        "\n",
        "# 1. Statistical Parity Difference \n",
        "print(\"\\nStaitistical Parity Difference for KNN\\n=\", statParityDif(knn_result, 'sex', 'y_pred1'))\n",
        "knn_spd = statParityDif(knn_result, 'sex', 'y_pred1')\n",
        "\n",
        "# 2. Equality Opportunity Difference \n",
        "print(\"\\nEquality Opportunity Difference for KNN\\n=\", EqualOppDif(knn_result, 'sex', 'y_pred1', 'y_test'))\n",
        "knn_eod = EqualOppDif(knn_result, 'sex', 'y_pred1', 'y_test')\n",
        "\n",
        "# 3. Disparate Mistreatment \n",
        "print(\"\\nDisparate Mistreatment for KNN\\n=\",DisparateMistreat(knn_result, 'sex', 'y_pred1', 'y_test'))\n",
        "knn_dm = DisparateMistreat(knn_result, 'sex', 'y_pred1', 'y_test')\n"
      ]
    },
    {
      "cell_type": "code",
      "execution_count": null,
      "metadata": {
        "id": "d03f6ffa"
      },
      "outputs": [],
      "source": [
        "# <2> Decision Tree classifier\n",
        "\n",
        "# 1. Statistical Parity Difference \n",
        "print(\"\\nStaitistical Parity Difference for Decision Tree\\n=\", statParityDif(dt_result, 'sex', 'y_pred2'))\n",
        "dt_spd = statParityDif(dt_result, 'sex', 'y_pred2')\n",
        "\n",
        "# 2. Equality Opportunity Difference \n",
        "print(\"\\nEquality Opportunity Difference for Decision Tree\\n=\", EqualOppDif(dt_result, 'sex', 'y_pred2', 'y_test'))\n",
        "dt_eod = EqualOppDif(dt_result, 'sex', 'y_pred2', 'y_test')\n",
        "\n",
        "# 3. Disparate Mistreatment \n",
        "print(\"\\nDisparate Mistreatment for Decision Tree\\n=\",DisparateMistreat(dt_result, 'sex', 'y_pred2', 'y_test'))\n",
        "dt_dm = DisparateMistreat(dt_result, 'sex', 'y_pred2', 'y_test')\n"
      ]
    },
    {
      "cell_type": "code",
      "execution_count": null,
      "metadata": {
        "id": "fd2c19a0"
      },
      "outputs": [],
      "source": [
        "# <3> Naive-Bayes classifier\n",
        "\n",
        "# 1. Statistical Parity Difference \n",
        "print(\"\\nStaitistical Parity Difference for Naive-Bayes \\n=\", statParityDif(nb_result, 'sex', 'y_pred3'))\n",
        "nb_spd = statParityDif(nb_result, 'sex', 'y_pred3')\n",
        "\n",
        "# 2. Equality Opportunity Difference \n",
        "print(\"\\nEquality Opportunity Difference for Naive-Bayes \\n=\", EqualOppDif(nb_result, 'sex', 'y_pred3', 'y_test'))\n",
        "nb_eod = EqualOppDif(nb_result, 'sex', 'y_pred3', 'y_test')\n",
        "\n",
        "# 3. Disparate Mistreatment \n",
        "print(\"\\nDisparate Mistreatment for Naive-Bayes \\n=\", DisparateMistreat(nb_result, 'sex', 'y_pred3', 'y_test'))\n",
        "nb_dm = DisparateMistreat(nb_result, 'sex', 'y_pred3', 'y_test')\n"
      ]
    },
    {
      "cell_type": "code",
      "execution_count": null,
      "metadata": {
        "id": "274a4664"
      },
      "outputs": [],
      "source": [
        "# <4> SVM classifier\n",
        "\n",
        "# 1. Statistical Parity Difference \n",
        "print(\"\\nStaitistical Parity Difference for SVM\\n=\", statParityDif(svm_result, 'sex', 'y_pred4'))\n",
        "svm_spd = statParityDif(svm_result, 'sex', 'y_pred4')\n",
        "\n",
        "# 2. Equality Opportunity Difference \n",
        "print(\"\\nEquality Opportunity Difference for SVM\\n=\", EqualOppDif(svm_result, 'sex', 'y_pred4', 'y_test'))\n",
        "svm_eod = EqualOppDif(svm_result, 'sex', 'y_pred4', 'y_test')\n",
        "\n",
        "# 3. Disparate Mistreatment \n",
        "print(\"\\nDisparate Mistreatment for SVM\\n=\", DisparateMistreat(svm_result, 'sex', 'y_pred4', 'y_test'))\n",
        "svm_dm = DisparateMistreat(svm_result, 'sex', 'y_pred4', 'y_test')\n"
      ]
    },
    {
      "cell_type": "code",
      "execution_count": null,
      "metadata": {
        "id": "c6b7eba4"
      },
      "outputs": [],
      "source": [
        "# <5> Perceptron classifier\n",
        "\n",
        "# 1. Statistical Parity Difference \n",
        "print(\"\\nStaitistical Parity Difference for Perceptron\\n=\", statParityDif(perceptron_result, 'sex', 'y_pred5'))\n",
        "perceptron_spd = statParityDif(perceptron_result, 'sex', 'y_pred5')\n",
        "\n",
        "# 2. Equality Opportunity Difference \n",
        "print(\"\\nEquality Opportunity Difference for Perceptron\\n=\", EqualOppDif(perceptron_result, 'sex', 'y_pred5', 'y_test'))\n",
        "perceptron_eod = EqualOppDif(perceptron_result, 'sex', 'y_pred5', 'y_test')\n",
        "\n",
        "# 3. Disparate Mistreatment \n",
        "print(\"\\nDisparate Mistreatment for Perceptron\\n=\", DisparateMistreat(perceptron_result, 'sex', 'y_pred5', 'y_test'))\n",
        "perceptron_dm = DisparateMistreat(perceptron_result, 'sex', 'y_pred5', 'y_test')\n"
      ]
    },
    {
      "cell_type": "markdown",
      "metadata": {
        "id": "75fba449"
      },
      "source": [
        "# Table and Chart to compare the results. "
      ]
    },
    {
      "cell_type": "code",
      "execution_count": null,
      "metadata": {
        "id": "edf8362a"
      },
      "outputs": [],
      "source": [
        "# vertical dataframe of knn classifier measures. \n",
        "\n",
        "temp = {\n",
        "    'knn' : [knn_spd, knn_eod, knn_dm],\n",
        "    'DecisionTree' : [dt_spd, dt_eod, dt_dm], \n",
        "    'NaiveBayes' : [nb_spd, nb_eod, nb_dm], \n",
        "    'SVM' : [svm_spd, svm_eod, svm_dm], \n",
        "    'Perceptron' : [perceptron_spd, perceptron_eod, perceptron_dm], \n",
        "    'Fair Range' : ['[-0.1, 0.1]', '[-0.1, 0.1]', '[-0.1, 0.1]']\n",
        "       }\n",
        "\n",
        "df = pd.DataFrame(temp)\n",
        "df.index = ['SPD', 'EOD', 'DM']\n",
        "df"
      ]
    },
    {
      "cell_type": "code",
      "execution_count": null,
      "metadata": {
        "id": "dd712efa"
      },
      "outputs": [],
      "source": [
        "# Plot\n",
        "\n",
        "barwidth = 0.15\n",
        "fig = plt.subplots(figsize = (12,8))\n",
        "\n",
        "tempdf = df.drop(['Fair Range'], axis = 1)\n",
        "\n",
        "spd = np.array(tempdf.loc['SPD', :])\n",
        "eod = np.array(tempdf.loc['EOD', :])\n",
        "dm = np.array(tempdf.loc['DM', :])\n",
        "\n",
        "\n",
        "br1 = np.arange(len(spd))\n",
        "br2 = [x + barwidth for x in br1]\n",
        "br3 = [x + barwidth for x in br2]\n",
        "\n",
        "plt.bar(br1, spd, color = 'b', width = barwidth, edgecolor = 'grey', label = 'spd')\n",
        "plt.bar(br2, eod, color = 'g', width = barwidth, edgecolor = 'grey', label = 'eod')\n",
        "plt.bar(br3, dm, color = 'c', width = barwidth, edgecolor = 'grey', label = 'dm')\n",
        "plt.axhline(y=0.1, color='r', linestyle='-')\n",
        "plt.axhline(y= -0.1, color = 'r', linestyle = '-')\n",
        "\n",
        "plt.xlabel('Classifier', fontweight = 'bold', fontsize = 15)\n",
        "plt.ylabel('Measures', fontweight = 'bold', fontsize = 15)\n",
        "plt.xticks([r + barwidth for r in range(len(spd))], ['KNN', 'DecisionTree', 'NaiveBayes', 'SVM', 'Perceptron'])\n",
        "\n",
        "plt.legend()\n",
        "plt.show()"
      ]
    },
    {
      "cell_type": "markdown",
      "source": [
        "# Result - Fairness of the measures\n",
        "\n",
        "Except for the statistical parity difference of classifier Decision Tree, the measure values fall into the fair range [-0.1, 0.1]. The classifier Decision Tree shows slightly extreme values of measures compared to the other classifier. In conclusion there is no obvious discriminatory behavior from our training models."
      ],
      "metadata": {
        "id": "YbZTo7t-bmP5"
      }
    },
    {
      "cell_type": "markdown",
      "source": [
        "# KNN Implementation \n",
        "\n",
        "We develoepd KNN implementation referring to the page \n",
        "https://machinelearningmastery.com/tutorial-to-implement-k-nearest-neighbors-in-python-from-scratch/. \n",
        "\n"
      ],
      "metadata": {
        "id": "fXUhL0DxnOht"
      }
    },
    {
      "cell_type": "code",
      "source": [
        "# X_train_numerical and y_train dataset combined to be used"
      ],
      "metadata": {
        "id": "KYN16K3FTfeJ"
      },
      "execution_count": null,
      "outputs": []
    },
    {
      "cell_type": "code",
      "source": [
        "df_y_train = pd.DataFrame(y_train)\n",
        "df_y_train.index = list(X_train_numerical.index)\n",
        "df_y_train.columns = ['y_train']"
      ],
      "metadata": {
        "id": "_6Bg3KX_TMrp"
      },
      "execution_count": null,
      "outputs": []
    },
    {
      "cell_type": "code",
      "source": [
        "X_train_numerical['distance'] = 0.0\n",
        "X_trainset = pd.concat([X_train_numerical, df_y_train], axis = 1)"
      ],
      "metadata": {
        "id": "HP7AH3FuTL9p"
      },
      "execution_count": null,
      "outputs": []
    },
    {
      "cell_type": "code",
      "source": [
        "# X_test_numerical and y_test dataset combined to be used"
      ],
      "metadata": {
        "id": "QFPn04DGTtkJ"
      },
      "execution_count": null,
      "outputs": []
    },
    {
      "cell_type": "code",
      "source": [
        "X_test_numerical['distance'] = 0.0\n",
        "df_y_test = pd.DataFrame(y_test)\n",
        "df_y_test.index = list(X_test_numerical.index)\n",
        "df_y_test.columns = ['y_test']\n",
        "X_testset = pd.concat([X_test_numerical, df_y_test], axis = 1)\n",
        "X_testset.head(10)"
      ],
      "metadata": {
        "id": "NEETtZeYTUNE"
      },
      "execution_count": null,
      "outputs": []
    },
    {
      "cell_type": "code",
      "source": [
        "# KNN Implementation functions"
      ],
      "metadata": {
        "id": "4WmUCp3tTy8G"
      },
      "execution_count": null,
      "outputs": []
    },
    {
      "cell_type": "code",
      "source": [
        "import math"
      ],
      "metadata": {
        "id": "BpIzUPL9TY26"
      },
      "execution_count": null,
      "outputs": []
    },
    {
      "cell_type": "code",
      "execution_count": null,
      "metadata": {
        "id": "8d72eeda"
      },
      "outputs": [],
      "source": [
        "# Getting the euclidean distance between two rows\n",
        "\n",
        "def euclidistance(row1, row2):\n",
        "    \n",
        "    distance = 0.0\n",
        "    \n",
        "    for i in range(len(row1)):\n",
        "        distance += (row1[i] - row2[i])**2\n",
        "    \n",
        "    return math.sqrt(distance)\n",
        "\n",
        "# Getting the K-nearest neighbors of instance to the each row of the table\n",
        "def k_neighbors(table, instance, k):\n",
        "    \n",
        "    neighbors = list()\n",
        "    \n",
        "    for i in range(len(table)):\n",
        "        d = euclidistance(table.iloc[i], instance)\n",
        "        table['distance'].iloc[i] = d\n",
        "        \n",
        "    table = table.sort_values(by = \"distance\")\n",
        "    \n",
        "    for j in range(k):\n",
        "        neighbors.append(list(table.iloc[j]))\n",
        "    \n",
        "    return neighbors \n",
        "\n",
        "# By majority voting, classify the label of instance from the table\n",
        "def classification(table, instance, k):\n",
        "    neighbors = k_neighbors(table, instance, k)\n",
        "    neighbor_class = [n[-1] for n in neighbors]\n",
        "    classify = max(set(neighbor_class), key = neighbor_class.count)\n",
        "    return classify\n",
        "\n",
        "# KNN algorithm\n",
        "def knn(train, test, k):\n",
        "    predict_y = list()\n",
        "    for i in range(len(test)):\n",
        "        temp = classification(train, test.iloc[i] , k)\n",
        "        predict_y.append(temp)\n",
        "    return(predict_y)"
      ]
    },
    {
      "cell_type": "markdown",
      "source": [
        "## Result of KNN classifier from scratch "
      ],
      "metadata": {
        "id": "Ybk0gcd2czoH"
      }
    },
    {
      "cell_type": "code",
      "source": [
        "test_rows = X_testset.head(20)\n",
        "pred_scratch = pd.DataFrame(knn(X_trainset, test_rows, 7))\n",
        "pred_scratch.columns = ['y_pred_scratch']"
      ],
      "metadata": {
        "id": "blVG7KYxX2WS"
      },
      "execution_count": null,
      "outputs": []
    },
    {
      "cell_type": "code",
      "source": [
        "pred_scratch.index = list(test_rows.index)"
      ],
      "metadata": {
        "id": "QAfzRLxsr-A4"
      },
      "execution_count": null,
      "outputs": []
    },
    {
      "cell_type": "code",
      "source": [
        "df_result_scratch = pd.concat([test_rows, pred_scratch], axis = 1)\n",
        "df_result_scratch"
      ],
      "metadata": {
        "id": "KmJi-WzqgAp0"
      },
      "execution_count": null,
      "outputs": []
    },
    {
      "cell_type": "code",
      "source": [
        "accuracy_scratch = sum(df_result_scratch['y_test'] == df_result_scratch['y_pred_scratch'])/len(test_rows)\n",
        "print(\"The scratched KNN accuracy is: \", accuracy_scratch)"
      ],
      "metadata": {
        "id": "oecDKrcHsnOq"
      },
      "execution_count": null,
      "outputs": []
    },
    {
      "cell_type": "markdown",
      "source": [
        "## Remark\n",
        "The result is not possible to be obtained by the KNN algorithm that is made from the scratch, because of long run-time. However, we tried with smaller test set and observed it work out.\n",
        "\n",
        "From the 20 instances of test, the prediction accuracy is turned out to be 0.75. "
      ],
      "metadata": {
        "id": "CfgPZrDMnD1m"
      }
    },
    {
      "cell_type": "markdown",
      "source": [
        "## Improving run-time"
      ],
      "metadata": {
        "id": "oXTTu92k6E8m"
      }
    },
    {
      "cell_type": "markdown",
      "source": [
        "## The slow running time of KNN\n",
        "It is slow compared to the other training model. This is because the model could not generalize in advance rather it has to look up all the historical data and if the size of the data is big, it slows down the computing process. \n",
        "\n",
        "## The improvement \n",
        "\n",
        "If using cosine similarity than euclidean distance, the time complexity can be improved. Because euclidean includes more operations than cosine similarity. \n",
        "\n",
        "Cosine simliarity: the cosine of the angle between two n-dimensional vectors in an n-dimensional space. It is the dot product of the two vectors divided by the product of the two vectors' lengths (or magnitudes).\n",
        "\n",
        "![스크린샷 2021-12-16 18.59.03.png](data:image/png;base64,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)\n",
        "\n"
      ],
      "metadata": {
        "id": "0oHbcmpS_Fnx"
      }
    },
    {
      "cell_type": "code",
      "source": [
        ""
      ],
      "metadata": {
        "id": "i_IpOfT2_0fH"
      },
      "execution_count": null,
      "outputs": []
    }
  ],
  "metadata": {
    "colab": {
      "collapsed_sections": [],
      "name": "Project1 -  Maschinelles Lernen für Data Science W21/22",
      "provenance": [],
      "include_colab_link": true
    },
    "kernelspec": {
      "display_name": "Python 3",
      "name": "python3"
    },
    "language_info": {
      "name": "python"
    },
    "accelerator": "GPU"
  },
  "nbformat": 4,
  "nbformat_minor": 0
}